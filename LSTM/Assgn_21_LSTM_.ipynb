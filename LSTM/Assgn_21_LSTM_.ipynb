{
  "nbformat": 4,
  "nbformat_minor": 0,
  "metadata": {
    "kernelspec": {
      "display_name": "Python 3",
      "language": "python",
      "name": "python3"
    },
    "language_info": {
      "codemirror_mode": {
        "name": "ipython",
        "version": 3
      },
      "file_extension": ".py",
      "mimetype": "text/x-python",
      "name": "python",
      "nbconvert_exporter": "python",
      "pygments_lexer": "ipython3",
      "version": "3.6.8"
    },
    "colab": {
      "name": "Assgn -21 - LSTM .ipynb",
      "provenance": [],
      "collapsed_sections": [
        "2T2F-LUnXyQV"
      ],
      "toc_visible": true
    },
    "accelerator": "GPU"
  },
  "cells": [
    {
      "cell_type": "markdown",
      "metadata": {
        "id": "tyuqDpibFKXI"
      },
      "source": [
        "## Assignment : 14"
      ]
    },
    {
      "cell_type": "markdown",
      "metadata": {
        "id": "aZa2uFxtFKXP"
      },
      "source": [
        "<pre>\n",
        "1. Preprocess all the Data we have in DonorsChoose <a href='https://drive.google.com/drive/folders/1MIwK7BQMev8f5CbDDVNLPaFGB32pFN60'>Dataset</a> use train.csv\n",
        "2. Combine 4 essay's into one column named - 'preprocessed_essays'. \n",
        "3. After step 2 you have to train 3 types of models as discussed below. \n",
        "4. For all the model use <a href='https://scikit-learn.org/stable/modules/model_evaluation.html#roc-metrics'>'auc'</a> as a metric. check <a href='https://datascience.stackexchange.com/a/20192'>this</a> for using auc as a metric \n",
        "5. You are free to choose any number of layers/hiddden units but you have to use same type of architectures shown below. \n",
        "6. You can use any one of the optimizers and choice of Learning rate and momentum, resources: <a href='http://cs231n.github.io/neural-networks-3/'>cs231n class notes</a>, <a href='https://www.youtube.com/watch?v=hd_KFJ5ktUc'>cs231n class video</a>. \n",
        "7. For all the model's use <a href='https://www.youtube.com/watch?v=2U6Jl7oqRkM'>TensorBoard</a> and plot the Metric value and Loss with epoch. While submitting, take a screenshot of plots and include those images in .ipynb notebook and PDF. \n",
        "8. Use Categorical Cross Entropy as Loss to minimize.\n",
        "</pre>"
      ]
    },
    {
      "cell_type": "markdown",
      "metadata": {
        "id": "y9IqWRikFKXR"
      },
      "source": [
        "### Model-1\n",
        "\n",
        "Build and Train deep neural network as shown below"
      ]
    },
    {
      "cell_type": "markdown",
      "metadata": {
        "id": "ktZ4pCpyFKXS"
      },
      "source": [
        "<img src='https://i.imgur.com/w395Yk9.png'>\n",
        "ref: https://i.imgur.com/w395Yk9.png"
      ]
    },
    {
      "cell_type": "markdown",
      "metadata": {
        "id": "dLKM_osjFKXT"
      },
      "source": [
        "- __Input_seq_total_text_data__ --- You have to give Total text data columns. After this use the Embedding layer to get word vectors. Use given predefined glove word vectors, don't train any word vectors. After this use LSTM and get the LSTM output and Flatten that output. \n",
        "- __Input_school_state__ --- Give 'school_state' column as input to embedding layer and Train the Keras Embedding layer. \n",
        "- __Project_grade_category__  --- Give 'project_grade_category' column as input to embedding layer and Train the Keras Embedding layer.\n",
        "- __Input_clean_categories__ --- Give 'input_clean_categories' column as input to embedding layer and Train the Keras Embedding layer.\n",
        "- __Input_clean_subcategories__ --- Give 'input_clean_subcategories' column as input to embedding layer and Train the Keras Embedding layer.\n",
        "- __Input_clean_subcategories__ --- Give 'input_teacher_prefix' column as input to embedding layer and Train the Keras Embedding layer.\n",
        "- __Input_remaining_teacher_number_of_previously_posted_projects._resource_summary_contains_numerical_digits._price._quantity__ ---concatenate remaining columns and add a Dense layer after that. \n",
        "\n"
      ]
    },
    {
      "cell_type": "markdown",
      "metadata": {
        "id": "wO8bn4CaFKXT"
      },
      "source": [
        "- For LSTM, you can choose your sequence padding methods on your own or you can train your LSTM without padding, there is no restriction on that."
      ]
    },
    {
      "cell_type": "markdown",
      "metadata": {
        "id": "oIO8EcHHFKXU"
      },
      "source": [
        "Below is an example of embedding layer for a categorical columns. In below code all are dummy values, we gave only for referance. "
      ]
    },
    {
      "cell_type": "code",
      "metadata": {
        "id": "kaFU08UaFKXV"
      },
      "source": [
        "# https://stats.stackexchange.com/questions/270546/how-does-keras-embedding-layer-work\n",
        "# input_layer = Input(shape=(n,))\n",
        "# embedding = Embedding(no_1, no_2, input_length=n)(input_layer)\n",
        "# flatten = Flatten()(embedding)"
      ],
      "execution_count": null,
      "outputs": []
    },
    {
      "cell_type": "markdown",
      "metadata": {
        "id": "g15cJp_UFKXY"
      },
      "source": [
        "### 1. Go through this blog, if you have any doubt on using predefined Embedding values in Embedding layer - https://machinelearningmastery.com/use-word-embedding-layers-deep-learning-keras/\n",
        "### 2. Please go through this link https://keras.io/getting-started/functional-api-guide/ and check the 'Multi-input and multi-output models' then you will get to know how to give multiple inputs. "
      ]
    },
    {
      "cell_type": "markdown",
      "metadata": {
        "id": "c8bldhwNFKXZ"
      },
      "source": [
        "### Model-2"
      ]
    },
    {
      "cell_type": "markdown",
      "metadata": {
        "id": "7MAQjFdeFKXZ"
      },
      "source": [
        "Use the same model as above but for 'input_seq_total_text_data' give only some words in the sentance not all the words. Filter the words as below. "
      ]
    },
    {
      "cell_type": "markdown",
      "metadata": {
        "id": "q4mcSxujFKXZ"
      },
      "source": [
        "<pre>\n",
        "1. Train the TF-IDF on the Train data <br>\n",
        "2. Get the idf value for each word we have in the train data. <br>\n",
        "3. Remove the low idf value and high idf value words from our data. Do some analysis on the Idf values and based on those values choose the low and high threshold value. Because very frequent words and very very rare words don't give much information. (you can plot a box plots and take only the idf scores within IQR range and corresponding words)<br>\n",
        "4. Train the LSTM after removing the Low and High idf value words. (In model-1 Train on total data but in Model-2 train on data after removing some words based on IDF values)\n",
        "</pre>"
      ]
    },
    {
      "cell_type": "markdown",
      "metadata": {
        "id": "0zgmV8CiFKXa"
      },
      "source": [
        "### Model-3"
      ]
    },
    {
      "cell_type": "markdown",
      "metadata": {
        "id": "MCZiqBmEFKXa"
      },
      "source": [
        "<img src='https://i.imgur.com/fkQ8nGo.png'>\n",
        "ref: https://i.imgur.com/fkQ8nGo.png"
      ]
    },
    {
      "cell_type": "markdown",
      "metadata": {
        "id": "MSIMD26cFKXa"
      },
      "source": [
        "\n",
        "- __input_seq_total_text_data__: <br>\n",
        "<pre>\n",
        "    . Use text column('essay'), and use the Embedding layer to get word vectors. <br>\n",
        "    . Use given predefined glove word vectors, don't train any word vectors. <br>\n",
        "    . Use LSTM that is given above, get the LSTM output and Flatten that output. <br>\n",
        "    . You are free to preprocess the input text as you needed. <br>\n",
        "</pre>\n",
        "- __Other_than_text_data__:<br>\n",
        "<pre>\n",
        "    . Convert all your Categorical values to onehot coded and then concatenate all these onehot vectors <br>\n",
        "    . Neumerical values and use <a href='https://keras.io/getting-started/sequential-model-guide/#sequence-classification-with-1d-convolutions'>CNN1D</a> as shown in above figure. <br>\n",
        "    . You are free to choose all CNN parameters like kernel sizes, stride.<br>\n",
        "    \n",
        "</pre>"
      ]
    },
    {
      "cell_type": "code",
      "metadata": {
        "colab": {
          "base_uri": "https://localhost:8080/"
        },
        "id": "F3KUheAhnEHC",
        "outputId": "1d9a8e19-e433-48fa-b875-9eee1cfea6e5"
      },
      "source": [
        "from google.colab import drive\n",
        "drive.mount('/content/drive')"
      ],
      "execution_count": null,
      "outputs": [
        {
          "output_type": "stream",
          "name": "stdout",
          "text": [
            "Drive already mounted at /content/drive; to attempt to forcibly remount, call drive.mount(\"/content/drive\", force_remount=True).\n"
          ]
        }
      ]
    },
    {
      "cell_type": "markdown",
      "metadata": {
        "id": "EGgpeWQo7-1-"
      },
      "source": [
        "#Importing libraries"
      ]
    },
    {
      "cell_type": "code",
      "metadata": {
        "id": "YblQSgXVnA2x"
      },
      "source": [
        "import pandas as pd\n",
        "import seaborn as sns\n",
        "import matplotlib.pyplot as plt\n",
        "import os\n",
        "import numpy as np\n",
        "from sklearn.model_selection import train_test_split\n",
        "from sklearn.metrics import roc_auc_score\n",
        "\n",
        "import tensorflow as tf\n",
        "import tensorflow.keras.backend as K\n",
        "\n",
        "from tensorflow.keras import Model\n",
        "from tensorflow.keras.preprocessing.text import Tokenizer\n",
        "from tensorflow.keras.preprocessing.sequence import pad_sequences\n",
        "from tensorflow.keras.layers import Input, Embedding, Conv1D, Concatenate, MaxPool1D, Flatten, Dropout, Dense, BatchNormalization,LSTM\n",
        "from tensorflow.keras.callbacks import EarlyStopping, ModelCheckpoint, TensorBoard, TerminateOnNaN, Callback\n",
        "from tensorflow.keras.optimizers import Adam\n",
        "# from tensorflow.keras.utils import to_categorical\n",
        "from tensorflow.keras.callbacks import Callback\n",
        "\n",
        "from sklearn.feature_extraction.text import TfidfVectorizer\n",
        "\n",
        "import pickle\n",
        "from tqdm import tqdm\n",
        "import warnings\n",
        "\n",
        "warnings.filterwarnings(\"ignore\")"
      ],
      "execution_count": null,
      "outputs": []
    },
    {
      "cell_type": "code",
      "metadata": {
        "colab": {
          "base_uri": "https://localhost:8080/"
        },
        "id": "5XLly9mzZder",
        "outputId": "696df452-52cb-4caa-fa23-9948ac3ee23e"
      },
      "source": [
        "%load_ext tensorboard"
      ],
      "execution_count": null,
      "outputs": [
        {
          "output_type": "stream",
          "name": "stdout",
          "text": [
            "The tensorboard extension is already loaded. To reload it, use:\n",
            "  %reload_ext tensorboard\n"
          ]
        }
      ]
    },
    {
      "cell_type": "code",
      "metadata": {
        "id": "36U7-jRYnKyr"
      },
      "source": [
        "df = pd.read_csv('/content/drive/MyDrive/Datasets/preprocessed_data.csv')"
      ],
      "execution_count": null,
      "outputs": []
    },
    {
      "cell_type": "code",
      "metadata": {
        "colab": {
          "base_uri": "https://localhost:8080/",
          "height": 288
        },
        "id": "WXM2kOe1nUXN",
        "outputId": "6e6d5ceb-a6e6-498c-a238-2b2cfa6c7377"
      },
      "source": [
        "df.head(2)"
      ],
      "execution_count": null,
      "outputs": [
        {
          "output_type": "execute_result",
          "data": {
            "text/html": [
              "<div>\n",
              "<style scoped>\n",
              "    .dataframe tbody tr th:only-of-type {\n",
              "        vertical-align: middle;\n",
              "    }\n",
              "\n",
              "    .dataframe tbody tr th {\n",
              "        vertical-align: top;\n",
              "    }\n",
              "\n",
              "    .dataframe thead th {\n",
              "        text-align: right;\n",
              "    }\n",
              "</style>\n",
              "<table border=\"1\" class=\"dataframe\">\n",
              "  <thead>\n",
              "    <tr style=\"text-align: right;\">\n",
              "      <th></th>\n",
              "      <th>school_state</th>\n",
              "      <th>teacher_prefix</th>\n",
              "      <th>project_grade_category</th>\n",
              "      <th>teacher_number_of_previously_posted_projects</th>\n",
              "      <th>project_is_approved</th>\n",
              "      <th>clean_categories</th>\n",
              "      <th>clean_subcategories</th>\n",
              "      <th>essay</th>\n",
              "      <th>price</th>\n",
              "    </tr>\n",
              "  </thead>\n",
              "  <tbody>\n",
              "    <tr>\n",
              "      <th>0</th>\n",
              "      <td>ca</td>\n",
              "      <td>mrs</td>\n",
              "      <td>grades_prek_2</td>\n",
              "      <td>53</td>\n",
              "      <td>1</td>\n",
              "      <td>math_science</td>\n",
              "      <td>appliedsciences health_lifescience</td>\n",
              "      <td>i fortunate enough use fairy tale stem kits cl...</td>\n",
              "      <td>725.05</td>\n",
              "    </tr>\n",
              "    <tr>\n",
              "      <th>1</th>\n",
              "      <td>ut</td>\n",
              "      <td>ms</td>\n",
              "      <td>grades_3_5</td>\n",
              "      <td>4</td>\n",
              "      <td>1</td>\n",
              "      <td>specialneeds</td>\n",
              "      <td>specialneeds</td>\n",
              "      <td>imagine 8 9 years old you third grade classroo...</td>\n",
              "      <td>213.03</td>\n",
              "    </tr>\n",
              "  </tbody>\n",
              "</table>\n",
              "</div>"
            ],
            "text/plain": [
              "  school_state  ...   price\n",
              "0           ca  ...  725.05\n",
              "1           ut  ...  213.03\n",
              "\n",
              "[2 rows x 9 columns]"
            ]
          },
          "metadata": {},
          "execution_count": 11
        }
      ]
    },
    {
      "cell_type": "code",
      "metadata": {
        "colab": {
          "base_uri": "https://localhost:8080/"
        },
        "id": "AChfn8nXnV9n",
        "outputId": "0a7249ee-9460-42ca-fe6e-1fa5fdf3440d"
      },
      "source": [
        "len(df)"
      ],
      "execution_count": null,
      "outputs": [
        {
          "output_type": "execute_result",
          "data": {
            "text/plain": [
              "109248"
            ]
          },
          "metadata": {},
          "execution_count": 12
        }
      ]
    },
    {
      "cell_type": "code",
      "metadata": {
        "id": "4kuBvGUQSURf"
      },
      "source": [
        "x_tr , y_train , x_te, y_test = train_test_split(df,df['project_is_approved'],test_size=0.20,random_state = 42,stratify=df['project_is_approved'])"
      ],
      "execution_count": null,
      "outputs": []
    },
    {
      "cell_type": "code",
      "metadata": {
        "colab": {
          "base_uri": "https://localhost:8080/"
        },
        "id": "m0bOVVn4T8pv",
        "outputId": "5486587f-1eda-477f-d137-cb351e343430"
      },
      "source": [
        "x_tr.shape,x_te.shape"
      ],
      "execution_count": null,
      "outputs": [
        {
          "output_type": "execute_result",
          "data": {
            "text/plain": [
              "((87398, 9), (87398,))"
            ]
          },
          "metadata": {},
          "execution_count": 14
        }
      ]
    },
    {
      "cell_type": "code",
      "metadata": {
        "id": "HncdUzKzSUOG"
      },
      "source": [
        "x_train,cv_train,x_test,cv_test = train_test_split(x_tr,x_te,test_size=0.25,random_state = 42,stratify=x_te)"
      ],
      "execution_count": null,
      "outputs": []
    },
    {
      "cell_type": "code",
      "metadata": {
        "colab": {
          "base_uri": "https://localhost:8080/"
        },
        "id": "cT-X5r8lSULd",
        "outputId": "991ca1e4-9621-4bcc-f737-fac27f816916"
      },
      "source": [
        "x_train.shape,cv_train.shape"
      ],
      "execution_count": null,
      "outputs": [
        {
          "output_type": "execute_result",
          "data": {
            "text/plain": [
              "((65548, 9), (21850, 9))"
            ]
          },
          "metadata": {},
          "execution_count": 16
        }
      ]
    },
    {
      "cell_type": "markdown",
      "metadata": {
        "id": "JuMd5oeMizZI"
      },
      "source": [
        "#Custom AUC Score"
      ]
    },
    {
      "cell_type": "code",
      "metadata": {
        "id": "hsDnlBoaizKM"
      },
      "source": [
        "# def auc1(y_true, y_pred):\n",
        "#     if len(tf.unique(y_true[:,1])) == 1:\n",
        "#         return 0.5\n",
        "#     else:\n",
        "#         return roc_auc_score(tf.eval(y_true), tf.eval(y_pred))\n",
        "\n",
        "def aucroc(y_true,y_pred):\n",
        "    # print('The values are')\n",
        "    # print(type(y_true),type(y_pred))\n",
        "    return tf.py_function(roc_auc_score,(y_true,y_pred),tf.double)"
      ],
      "execution_count": null,
      "outputs": []
    },
    {
      "cell_type": "markdown",
      "metadata": {
        "id": "2T2F-LUnXyQV"
      },
      "source": [
        "###Collapse"
      ]
    },
    {
      "cell_type": "code",
      "metadata": {
        "id": "m9rlUBwLiyyu"
      },
      "source": [
        "# def f1(y_true, y_pred):\n",
        "#     \"\"\"\n",
        "#     f1 score\n",
        "\n",
        "#     :param y_true:\n",
        "#     :param y_pred:\n",
        "#     :return:\n",
        "#     \"\"\"\n",
        "\n",
        "#     y_pred = y_pred.numpy()\n",
        "#     y_true = y_true.numpy()\n",
        "\n",
        "#     # tp_3d = K.concatenate(\n",
        "#     #     [\n",
        "#     #         K.cast(y_true, 'bool'),\n",
        "#     #         K.cast(K.round(y_pred), 'bool'),\n",
        "#     #         K.cast(K.ones_like(y_pred), 'bool')\n",
        "#     #     ], axis=1\n",
        "#     # )\n",
        "\n",
        "#     # fp_3d = K.concatenate(\n",
        "#     #     [\n",
        "#     #         K.cast(K.abs(y_true - K.ones_like(y_true)), 'bool'),\n",
        "#     #         K.cast(K.round(y_pred), 'bool'),\n",
        "#     #         K.cast(K.ones_like(y_pred), 'bool')\n",
        "#     #     ], axis=1\n",
        "#     # )\n",
        "\n",
        "#     # fn_3d = K.concatenate(\n",
        "#     #     [\n",
        "#     #         K.cast(y_true, 'bool'),\n",
        "#     #         K.cast(K.abs(K.round(y_pred) - K.ones_like(y_pred)), 'bool'),\n",
        "#     #         K.cast(K.ones_like(y_pred), 'bool')\n",
        "#     #     ], axis=1\n",
        "#     # )\n",
        "\n",
        "#     # tp = np.asarray(K.sum(K.cast(K.all(tp_3d, axis=1), 'int32')))\n",
        "#     # fp = np.asarray(K.sum(K.cast(K.all(fp_3d, axis=1), 'int32')))\n",
        "#     # fn = np.asarray(K.sum(K.cast(K.all(fn_3d, axis=1), 'int32')))\n",
        "\n",
        "#     # precision = tp / (tp + fp)\n",
        "#     # recall = tp / (tp + fn)\n",
        "#     # return 2 * ((precision * recall) / (precision + recall))\n",
        "#     return roc_auc_score(y_true,y_pred)"
      ],
      "execution_count": null,
      "outputs": []
    },
    {
      "cell_type": "markdown",
      "metadata": {
        "id": "RY3kM8fPf2zK"
      },
      "source": [
        "#Embedding essay"
      ]
    },
    {
      "cell_type": "code",
      "metadata": {
        "id": "XTdzSXYCSUIq"
      },
      "source": [
        "tokenizer = Tokenizer(num_words=10000)"
      ],
      "execution_count": null,
      "outputs": []
    },
    {
      "cell_type": "code",
      "metadata": {
        "id": "DQ9A8C6pSUFp"
      },
      "source": [
        "tokenizer.fit_on_texts(x_train['essay'])"
      ],
      "execution_count": null,
      "outputs": []
    },
    {
      "cell_type": "code",
      "metadata": {
        "id": "7R7PYkTHSUCy"
      },
      "source": [
        "word_index = tokenizer.word_index"
      ],
      "execution_count": null,
      "outputs": []
    },
    {
      "cell_type": "code",
      "metadata": {
        "colab": {
          "base_uri": "https://localhost:8080/"
        },
        "id": "03RxAUQVPlaJ",
        "outputId": "16e9fa4e-cb4b-4d92-99c2-44b88fda12ba"
      },
      "source": [
        "len(word_index)"
      ],
      "execution_count": null,
      "outputs": [
        {
          "output_type": "execute_result",
          "data": {
            "text/plain": [
              "46259"
            ]
          },
          "metadata": {},
          "execution_count": 22
        }
      ]
    },
    {
      "cell_type": "code",
      "metadata": {
        "colab": {
          "base_uri": "https://localhost:8080/"
        },
        "id": "RVTYaMP8iGsj",
        "outputId": "1178ba6f-e29c-4175-9afe-0d243cde4f69"
      },
      "source": [
        "x_test[:5]"
      ],
      "execution_count": null,
      "outputs": [
        {
          "output_type": "execute_result",
          "data": {
            "text/plain": [
              "47020    1\n",
              "58489    1\n",
              "69567    1\n",
              "42565    1\n",
              "14058    0\n",
              "Name: project_is_approved, dtype: int64"
            ]
          },
          "metadata": {},
          "execution_count": 23
        }
      ]
    },
    {
      "cell_type": "code",
      "metadata": {
        "id": "Z7U_0HAYST7J"
      },
      "source": [
        "encoded_train = tokenizer.texts_to_sequences(x_train['essay'])\n"
      ],
      "execution_count": null,
      "outputs": []
    },
    {
      "cell_type": "code",
      "metadata": {
        "id": "oDRCuAa4AcFn"
      },
      "source": [
        "encoded_cv = tokenizer.texts_to_sequences(cv_train['essay'])\n",
        "encoded_test = tokenizer.texts_to_sequences(y_train['essay'])"
      ],
      "execution_count": null,
      "outputs": []
    },
    {
      "cell_type": "code",
      "metadata": {
        "id": "QD2-qyvYAgfh"
      },
      "source": [
        "encoded_train = np.array(encoded_train)\n",
        "encoded_cv = np.array(encoded_cv)\n",
        "encoded_test = np.array(encoded_test)"
      ],
      "execution_count": null,
      "outputs": []
    },
    {
      "cell_type": "code",
      "metadata": {
        "colab": {
          "base_uri": "https://localhost:8080/"
        },
        "id": "mWy7BuH5STxw",
        "outputId": "6485149b-cee3-429d-e8cf-365036db726f"
      },
      "source": [
        "len(encoded_train[5])"
      ],
      "execution_count": null,
      "outputs": [
        {
          "output_type": "execute_result",
          "data": {
            "text/plain": [
              "120"
            ]
          },
          "metadata": {},
          "execution_count": 27
        }
      ]
    },
    {
      "cell_type": "code",
      "metadata": {
        "id": "I-bRDl6ISTvA"
      },
      "source": [
        "padded_train = pad_sequences(encoded_train, maxlen= 350,padding='post',truncating='post')"
      ],
      "execution_count": null,
      "outputs": []
    },
    {
      "cell_type": "code",
      "metadata": {
        "id": "Ij5vwO9faA9x"
      },
      "source": [
        "padded_cv = pad_sequences(encoded_cv, maxlen= 350,padding='post',truncating='post')\n",
        "padded_test = pad_sequences(encoded_test, maxlen= 350,padding='post',truncating='post')\n"
      ],
      "execution_count": null,
      "outputs": []
    },
    {
      "cell_type": "code",
      "metadata": {
        "id": "cdttVoaWSTr9"
      },
      "source": [
        "with open('/content/drive/MyDrive/Datasets/glove_vectors','rb') as g:\n",
        "    glove = pickle.load(g)\n",
        "    words_glove = set(glove.keys())"
      ],
      "execution_count": null,
      "outputs": []
    },
    {
      "cell_type": "code",
      "metadata": {
        "colab": {
          "base_uri": "https://localhost:8080/"
        },
        "id": "DMEeOO0BSTpE",
        "outputId": "5bda6062-be6f-4800-ed44-dd4c6ff21c81"
      },
      "source": [
        "embedding_matrix = np.zeros((len(word_index) + 1, 300))\n",
        "for word, i in tqdm(word_index.items()):\n",
        "    embedding_vector = glove.get(word)\n",
        "    if embedding_vector is not None:\n",
        "        # words not found in embedding index will be all-zeros.\n",
        "        embedding_matrix[i] = embedding_vector"
      ],
      "execution_count": null,
      "outputs": [
        {
          "output_type": "stream",
          "name": "stderr",
          "text": [
            "100%|██████████| 46259/46259 [00:00<00:00, 415124.71it/s]\n"
          ]
        }
      ]
    },
    {
      "cell_type": "markdown",
      "metadata": {
        "id": "0n85UGddjd0_"
      },
      "source": [
        "##Input layer 1 - Essay"
      ]
    },
    {
      "cell_type": "code",
      "metadata": {
        "id": "Qz-wyt8vq9BZ"
      },
      "source": [
        "tf.keras.backend.clear_session()"
      ],
      "execution_count": null,
      "outputs": []
    },
    {
      "cell_type": "code",
      "metadata": {
        "id": "YIC54oc6nexw"
      },
      "source": [
        "# input_layer_1 = Input(shape = (350, ), name = \"Input_Layer_1\")\n",
        "\n",
        "# embed_layer_essay = Embedding(input_dim = len(word_index) + 1, output_dim = 300, weights = [embedding_matrix], \n",
        "#                         input_length = 350, trainable = False, \n",
        "#                         name = \"Embedding_Layer_essay\")(input_layer_1)\n",
        "\n",
        "# lstm_layer = LSTM(32)(embed_layer_essay)\n",
        "\n",
        "# flatten_1 = Flatten(name='lstm_flatten')(lstm_layer)\n"
      ],
      "execution_count": null,
      "outputs": []
    },
    {
      "cell_type": "code",
      "metadata": {
        "id": "FeY0u7zY2cIO"
      },
      "source": [
        ""
      ],
      "execution_count": null,
      "outputs": []
    },
    {
      "cell_type": "markdown",
      "metadata": {
        "id": "2VksEOpmrcKl"
      },
      "source": [
        "#School state"
      ]
    },
    {
      "cell_type": "code",
      "metadata": {
        "id": "FMdGOHWYreb7"
      },
      "source": [
        "tokenizer1 = Tokenizer()"
      ],
      "execution_count": null,
      "outputs": []
    },
    {
      "cell_type": "code",
      "metadata": {
        "id": "tsUB1jkwrqHn"
      },
      "source": [
        "tokenizer1.fit_on_texts(x_train['school_state'])"
      ],
      "execution_count": null,
      "outputs": []
    },
    {
      "cell_type": "code",
      "metadata": {
        "id": "CKbM_k8Or5ED"
      },
      "source": [
        "state_index = tokenizer1.word_index"
      ],
      "execution_count": null,
      "outputs": []
    },
    {
      "cell_type": "code",
      "metadata": {
        "colab": {
          "base_uri": "https://localhost:8080/"
        },
        "id": "5w7iwkKVBE42",
        "outputId": "fd20ecf9-43da-463d-9f63-341466d23b72"
      },
      "source": [
        "state_index"
      ],
      "execution_count": null,
      "outputs": [
        {
          "output_type": "execute_result",
          "data": {
            "text/plain": [
              "{'ak': 44,\n",
              " 'al': 23,\n",
              " 'ar': 33,\n",
              " 'az': 19,\n",
              " 'ca': 1,\n",
              " 'co': 32,\n",
              " 'ct': 25,\n",
              " 'dc': 38,\n",
              " 'de': 42,\n",
              " 'fl': 4,\n",
              " 'ga': 7,\n",
              " 'hi': 39,\n",
              " 'ia': 35,\n",
              " 'id': 34,\n",
              " 'il': 6,\n",
              " 'in': 11,\n",
              " 'ks': 36,\n",
              " 'ky': 29,\n",
              " 'la': 14,\n",
              " 'ma': 15,\n",
              " 'md': 26,\n",
              " 'me': 40,\n",
              " 'mi': 9,\n",
              " 'mn': 30,\n",
              " 'mo': 12,\n",
              " 'ms': 28,\n",
              " 'mt': 48,\n",
              " 'nc': 5,\n",
              " 'nd': 49,\n",
              " 'ne': 45,\n",
              " 'nh': 43,\n",
              " 'nj': 18,\n",
              " 'nm': 37,\n",
              " 'nv': 27,\n",
              " 'ny': 3,\n",
              " 'oh': 13,\n",
              " 'ok': 17,\n",
              " 'or': 31,\n",
              " 'pa': 10,\n",
              " 'ri': 46,\n",
              " 'sc': 8,\n",
              " 'sd': 47,\n",
              " 'tn': 22,\n",
              " 'tx': 2,\n",
              " 'ut': 24,\n",
              " 'va': 20,\n",
              " 'vt': 51,\n",
              " 'wa': 16,\n",
              " 'wi': 21,\n",
              " 'wv': 41,\n",
              " 'wy': 50}"
            ]
          },
          "metadata": {},
          "execution_count": 37
        }
      ]
    },
    {
      "cell_type": "code",
      "metadata": {
        "id": "arTXYnmGsEK7"
      },
      "source": [
        "encoded_train_state = tokenizer1.texts_to_sequences(x_train['school_state'])"
      ],
      "execution_count": null,
      "outputs": []
    },
    {
      "cell_type": "code",
      "metadata": {
        "id": "5NEAMxcvA66M"
      },
      "source": [
        "encoded_cv_state = tokenizer1.texts_to_sequences(cv_train['school_state'])\n",
        "encoded_test_state = tokenizer1.texts_to_sequences(y_train['school_state'])"
      ],
      "execution_count": null,
      "outputs": []
    },
    {
      "cell_type": "code",
      "metadata": {
        "id": "YynrHDG4hjV0"
      },
      "source": [
        "encoded_train_state = np.array(encoded_train_state)\n",
        "encoded_cv_state = np.array(encoded_cv_state)\n",
        "encoded_test_state = np.array(encoded_test_state)"
      ],
      "execution_count": null,
      "outputs": []
    },
    {
      "cell_type": "code",
      "metadata": {
        "colab": {
          "base_uri": "https://localhost:8080/"
        },
        "id": "yRNuHuSjsNgP",
        "outputId": "44956be4-467c-4be8-ebd8-62a1c975f118"
      },
      "source": [
        "encoded_train_state[:5]"
      ],
      "execution_count": null,
      "outputs": [
        {
          "output_type": "execute_result",
          "data": {
            "text/plain": [
              "array([[ 2],\n",
              "       [29],\n",
              "       [ 6],\n",
              "       [31],\n",
              "       [ 5]])"
            ]
          },
          "metadata": {},
          "execution_count": 41
        }
      ]
    },
    {
      "cell_type": "code",
      "metadata": {
        "id": "v6-xAUeBtMlK"
      },
      "source": [
        "# input_layer_2 = Input(shape = (1, ), name = \"Input_Layer_2\")\n",
        "\n",
        "# embed_layer_state = Embedding(input_dim = len(state_index) + 1, output_dim = 5, \n",
        "#                         input_length = 1, trainable = True, \n",
        "#                         name = \"Embedding_Layer_state\")(input_layer_2)\n",
        "\n",
        "# flatten_2 = Flatten(name='state_flatten')(embed_layer_state)"
      ],
      "execution_count": null,
      "outputs": []
    },
    {
      "cell_type": "markdown",
      "metadata": {
        "id": "mZx08Qjsttv_"
      },
      "source": [
        "#Project grade"
      ]
    },
    {
      "cell_type": "code",
      "metadata": {
        "id": "IF1bZQEOtz2-"
      },
      "source": [
        "tokenizer1 = Tokenizer(filters='!\"#$%&()*+,-./:;<=>?@[\\\\]^`{|}~\\t\\n')   #excluded _ "
      ],
      "execution_count": null,
      "outputs": []
    },
    {
      "cell_type": "code",
      "metadata": {
        "id": "hnfQLzcVtz2-"
      },
      "source": [
        "tokenizer1.fit_on_texts(x_train['project_grade_category'])"
      ],
      "execution_count": null,
      "outputs": []
    },
    {
      "cell_type": "code",
      "metadata": {
        "id": "9U8dWUPutz2-"
      },
      "source": [
        "grade_index = tokenizer1.word_index"
      ],
      "execution_count": null,
      "outputs": []
    },
    {
      "cell_type": "code",
      "metadata": {
        "colab": {
          "base_uri": "https://localhost:8080/"
        },
        "id": "Z9TcoasKuB27",
        "outputId": "3988fc73-da08-4c75-fe78-0c8812eb7604"
      },
      "source": [
        "grade_index"
      ],
      "execution_count": null,
      "outputs": [
        {
          "output_type": "execute_result",
          "data": {
            "text/plain": [
              "{'grades_3_5': 2, 'grades_6_8': 3, 'grades_9_12': 4, 'grades_prek_2': 1}"
            ]
          },
          "metadata": {},
          "execution_count": 46
        }
      ]
    },
    {
      "cell_type": "code",
      "metadata": {
        "id": "KyEWRo4atz2-"
      },
      "source": [
        "encoded_train_grade = tokenizer1.texts_to_sequences(x_train['project_grade_category'])"
      ],
      "execution_count": null,
      "outputs": []
    },
    {
      "cell_type": "code",
      "metadata": {
        "id": "rrvWatAgBNm7"
      },
      "source": [
        "encoded_cv_grade = tokenizer1.texts_to_sequences(cv_train['project_grade_category'])\n",
        "encoded_test_grade = tokenizer1.texts_to_sequences(y_train['project_grade_category'])"
      ],
      "execution_count": null,
      "outputs": []
    },
    {
      "cell_type": "code",
      "metadata": {
        "id": "fpfkitC5hr72"
      },
      "source": [
        "encoded_train_grade = np.array(encoded_train_grade)\n",
        "encoded_cv_grade = np.array(encoded_cv_grade)\n",
        "encoded_test_grade = np.array(encoded_test_grade)"
      ],
      "execution_count": null,
      "outputs": []
    },
    {
      "cell_type": "code",
      "metadata": {
        "colab": {
          "base_uri": "https://localhost:8080/"
        },
        "id": "RML4fOfBtz2-",
        "outputId": "fabfbc91-3add-4135-c12d-324eb12d2ef3"
      },
      "source": [
        "encoded_train_grade[:5]"
      ],
      "execution_count": null,
      "outputs": [
        {
          "output_type": "execute_result",
          "data": {
            "text/plain": [
              "array([[1],\n",
              "       [1],\n",
              "       [2],\n",
              "       [2],\n",
              "       [2]])"
            ]
          },
          "metadata": {},
          "execution_count": 50
        }
      ]
    },
    {
      "cell_type": "code",
      "metadata": {
        "id": "0yXACEpRtz2_"
      },
      "source": [
        "# input_layer_3 = Input(shape = (1, ), name = \"Input_Layer_3\")\n",
        "\n",
        "# embed_layer_grade = Embedding(input_dim = len(grade_index) + 1, output_dim = 5, \n",
        "#                         input_length = 1, trainable = True, \n",
        "#                         name = \"Embedding_Layer_state\")(input_layer_3)\n",
        "\n",
        "# flatten_3 = Flatten(name='grade_flatten')(embed_layer_grade)"
      ],
      "execution_count": null,
      "outputs": []
    },
    {
      "cell_type": "markdown",
      "metadata": {
        "id": "VMHciVlJyfkG"
      },
      "source": [
        "#clean_categories"
      ]
    },
    {
      "cell_type": "code",
      "metadata": {
        "id": "d2Wr5SBytM29"
      },
      "source": [
        "tokenizer1 = Tokenizer()"
      ],
      "execution_count": null,
      "outputs": []
    },
    {
      "cell_type": "code",
      "metadata": {
        "id": "_M3AVI4tynRD"
      },
      "source": [
        "tokenizer1.fit_on_texts(x_train['clean_categories'])"
      ],
      "execution_count": null,
      "outputs": []
    },
    {
      "cell_type": "code",
      "metadata": {
        "id": "E41YLe3mys3Z"
      },
      "source": [
        "clean_index = tokenizer1.word_index"
      ],
      "execution_count": null,
      "outputs": []
    },
    {
      "cell_type": "code",
      "metadata": {
        "colab": {
          "base_uri": "https://localhost:8080/"
        },
        "id": "ALmkeXSKywVR",
        "outputId": "8b03aa18-b359-4bca-dc6f-8e79c59c0151"
      },
      "source": [
        "clean_index"
      ],
      "execution_count": null,
      "outputs": [
        {
          "output_type": "execute_result",
          "data": {
            "text/plain": [
              "{'appliedlearning': 8,\n",
              " 'arts': 10,\n",
              " 'care': 14,\n",
              " 'civics': 12,\n",
              " 'health': 5,\n",
              " 'history': 11,\n",
              " 'hunger': 15,\n",
              " 'language': 2,\n",
              " 'literacy': 1,\n",
              " 'math': 3,\n",
              " 'music': 9,\n",
              " 'science': 4,\n",
              " 'specialneeds': 7,\n",
              " 'sports': 6,\n",
              " 'warmth': 13}"
            ]
          },
          "metadata": {},
          "execution_count": 55
        }
      ]
    },
    {
      "cell_type": "code",
      "metadata": {
        "id": "e0d3J5YY0CWz"
      },
      "source": [
        "encoded_train_clean = tokenizer1.texts_to_sequences(x_train['clean_categories'])"
      ],
      "execution_count": null,
      "outputs": []
    },
    {
      "cell_type": "code",
      "metadata": {
        "id": "KAqXLhL9Bcji"
      },
      "source": [
        "encoded_cv_clean = tokenizer1.texts_to_sequences(cv_train['clean_categories'])\n",
        "encoded_test_clean = tokenizer1.texts_to_sequences(y_train['clean_categories'])"
      ],
      "execution_count": null,
      "outputs": []
    },
    {
      "cell_type": "code",
      "metadata": {
        "id": "IzUkBqfehzvP"
      },
      "source": [
        "encoded_train_clean = np.array(encoded_train_clean)\n",
        "encoded_cv_clean = np.array(encoded_cv_clean)\n",
        "encoded_test_clean = np.array(encoded_test_clean)"
      ],
      "execution_count": null,
      "outputs": []
    },
    {
      "cell_type": "code",
      "metadata": {
        "colab": {
          "base_uri": "https://localhost:8080/"
        },
        "id": "vLdKJV4h0Cc5",
        "outputId": "d15858b5-5b80-4d69-c286-8e163f69a150"
      },
      "source": [
        "encoded_train_clean[:10]"
      ],
      "execution_count": null,
      "outputs": [
        {
          "output_type": "execute_result",
          "data": {
            "text/plain": [
              "array([list([1, 2]), list([1, 2, 3, 4]), list([3, 4]),\n",
              "       list([1, 2, 9, 10]), list([1, 2]), list([1, 2]), list([5, 6]),\n",
              "       list([5, 6]), list([3, 4]), list([1, 2])], dtype=object)"
            ]
          },
          "metadata": {},
          "execution_count": 59
        }
      ]
    },
    {
      "cell_type": "code",
      "metadata": {
        "id": "qQvTfhoG0Cg6"
      },
      "source": [
        "padded_train_clean = pad_sequences(encoded_train_clean, maxlen= 10,padding='post',truncating='post')"
      ],
      "execution_count": null,
      "outputs": []
    },
    {
      "cell_type": "code",
      "metadata": {
        "id": "PYnOcaQVBnF4"
      },
      "source": [
        "padded_cv_clean = pad_sequences(encoded_cv_clean, maxlen= 10,padding='post',truncating='post')\n",
        "padded_test_clean = pad_sequences(encoded_test_clean, maxlen= 10,padding='post',truncating='post')"
      ],
      "execution_count": null,
      "outputs": []
    },
    {
      "cell_type": "code",
      "metadata": {
        "colab": {
          "base_uri": "https://localhost:8080/"
        },
        "id": "-5wtIh8T0Cl1",
        "outputId": "868c2a51-e530-4627-8421-95e113e23ac6"
      },
      "source": [
        "padded_train_clean"
      ],
      "execution_count": null,
      "outputs": [
        {
          "output_type": "execute_result",
          "data": {
            "text/plain": [
              "array([[1, 2, 0, ..., 0, 0, 0],\n",
              "       [1, 2, 3, ..., 0, 0, 0],\n",
              "       [3, 4, 0, ..., 0, 0, 0],\n",
              "       ...,\n",
              "       [3, 4, 0, ..., 0, 0, 0],\n",
              "       [3, 4, 0, ..., 0, 0, 0],\n",
              "       [1, 2, 3, ..., 0, 0, 0]], dtype=int32)"
            ]
          },
          "metadata": {},
          "execution_count": 62
        }
      ]
    },
    {
      "cell_type": "code",
      "metadata": {
        "id": "Q5l1rVUg0Cre"
      },
      "source": [
        "# input_layer_4 = Input(shape = (10, ), name = \"Input_Layer_4\")\n",
        "\n",
        "# embed_layer_clean = Embedding(input_dim = len(clean_index) + 1, output_dim = 5, \n",
        "#                         input_length = 10, trainable = True, \n",
        "#                         name = \"Embedding_Layer_clean\")(input_layer_4)\n",
        "\n",
        "# flatten_4 = Flatten(name='clean_flatten')(embed_layer_clean)"
      ],
      "execution_count": null,
      "outputs": []
    },
    {
      "cell_type": "markdown",
      "metadata": {
        "id": "mPcQK-MP1F4b"
      },
      "source": [
        "#Clean_sub"
      ]
    },
    {
      "cell_type": "code",
      "metadata": {
        "id": "4T3x3icQ0CvE"
      },
      "source": [
        "tokenizer1 = Tokenizer()"
      ],
      "execution_count": null,
      "outputs": []
    },
    {
      "cell_type": "code",
      "metadata": {
        "id": "-lyBq5SN0C0a"
      },
      "source": [
        "tokenizer1.fit_on_texts(x_train['clean_subcategories'])"
      ],
      "execution_count": null,
      "outputs": []
    },
    {
      "cell_type": "code",
      "metadata": {
        "id": "hDZPtuzX1Ydu"
      },
      "source": [
        "subclean_index = tokenizer1.word_index"
      ],
      "execution_count": null,
      "outputs": []
    },
    {
      "cell_type": "code",
      "metadata": {
        "colab": {
          "base_uri": "https://localhost:8080/"
        },
        "id": "c0-_QRxp1Ydu",
        "outputId": "91227fe1-7fc3-4d0a-f2e6-a01c23ec73cb"
      },
      "source": [
        "subclean_index"
      ],
      "execution_count": null,
      "outputs": [
        {
          "output_type": "execute_result",
          "data": {
            "text/plain": [
              "{'appliedsciences': 7,\n",
              " 'care': 27,\n",
              " 'careerprep': 20,\n",
              " 'charactereducation': 23,\n",
              " 'civics': 31,\n",
              " 'college': 19,\n",
              " 'communityservice': 36,\n",
              " 'earlydevelopment': 14,\n",
              " 'economics': 37,\n",
              " 'environmentalscience': 10,\n",
              " 'esl': 13,\n",
              " 'extracurricular': 33,\n",
              " 'financialliteracy': 35,\n",
              " 'fitness': 12,\n",
              " 'foreignlanguages': 30,\n",
              " 'geography': 18,\n",
              " 'government': 32,\n",
              " 'gym': 11,\n",
              " 'health': 5,\n",
              " 'history': 17,\n",
              " 'hunger': 28,\n",
              " 'lifescience': 15,\n",
              " 'literacy': 1,\n",
              " 'literature': 3,\n",
              " 'mathematics': 2,\n",
              " 'music': 16,\n",
              " 'nutritioneducation': 29,\n",
              " 'other': 21,\n",
              " 'parentinvolvement': 34,\n",
              " 'performingarts': 24,\n",
              " 'socialsciences': 25,\n",
              " 'specialneeds': 6,\n",
              " 'teamsports': 22,\n",
              " 'visualarts': 9,\n",
              " 'warmth': 26,\n",
              " 'wellness': 8,\n",
              " 'writing': 4}"
            ]
          },
          "metadata": {},
          "execution_count": 67
        }
      ]
    },
    {
      "cell_type": "code",
      "metadata": {
        "id": "4W3O7ZZh1gI1"
      },
      "source": [
        "encoded_train_subclean = tokenizer1.texts_to_sequences(x_train['clean_subcategories'])"
      ],
      "execution_count": null,
      "outputs": []
    },
    {
      "cell_type": "code",
      "metadata": {
        "id": "tZkBwtgrB1mi"
      },
      "source": [
        "encoded_cv_subclean = tokenizer1.texts_to_sequences(cv_train['clean_subcategories'])\n",
        "encoded_test_subclean = tokenizer1.texts_to_sequences(y_train['clean_subcategories'])"
      ],
      "execution_count": null,
      "outputs": []
    },
    {
      "cell_type": "code",
      "metadata": {
        "id": "8A_LhB0Zh7iA"
      },
      "source": [
        "encoded_train_subclean = np.array(encoded_train_subclean)\n",
        "encoded_cv_subclean = np.array(encoded_cv_subclean)\n",
        "encoded_test_subclean = np.array(encoded_test_subclean)"
      ],
      "execution_count": null,
      "outputs": []
    },
    {
      "cell_type": "code",
      "metadata": {
        "colab": {
          "base_uri": "https://localhost:8080/"
        },
        "id": "fex2BCEP1gI1",
        "outputId": "6c478bb4-c13d-446b-97d1-3ec82ba63eeb"
      },
      "source": [
        "encoded_train_subclean[:10]"
      ],
      "execution_count": null,
      "outputs": [
        {
          "output_type": "execute_result",
          "data": {
            "text/plain": [
              "array([list([1]), list([1, 2]), list([7, 10]), list([1, 9]), list([3, 4]),\n",
              "       list([1]), list([5, 8]), list([5, 8]), list([2]), list([3, 4])],\n",
              "      dtype=object)"
            ]
          },
          "metadata": {},
          "execution_count": 71
        }
      ]
    },
    {
      "cell_type": "code",
      "metadata": {
        "id": "seX8Hnjo1gI1"
      },
      "source": [
        "padded_train_subclean = pad_sequences(encoded_train_subclean, maxlen= 10,padding='post',truncating='post')"
      ],
      "execution_count": null,
      "outputs": []
    },
    {
      "cell_type": "code",
      "metadata": {
        "id": "b47VT5SQB_Wf"
      },
      "source": [
        "padded_cv_subclean = pad_sequences(encoded_cv_subclean, maxlen= 10,padding='post',truncating='post')\n",
        "padded_test_subclean = pad_sequences(encoded_test_subclean, maxlen= 10,padding='post',truncating='post')"
      ],
      "execution_count": null,
      "outputs": []
    },
    {
      "cell_type": "code",
      "metadata": {
        "colab": {
          "base_uri": "https://localhost:8080/"
        },
        "id": "bQEWmaK-1gI1",
        "outputId": "4b7f2d80-3b4f-4cdf-a0d1-acf19f244eb3"
      },
      "source": [
        "padded_train_subclean"
      ],
      "execution_count": null,
      "outputs": [
        {
          "output_type": "execute_result",
          "data": {
            "text/plain": [
              "array([[ 1,  0,  0, ...,  0,  0,  0],\n",
              "       [ 1,  2,  0, ...,  0,  0,  0],\n",
              "       [ 7, 10,  0, ...,  0,  0,  0],\n",
              "       ...,\n",
              "       [10,  2,  0, ...,  0,  0,  0],\n",
              "       [ 5, 15,  2, ...,  0,  0,  0],\n",
              "       [ 1,  2,  0, ...,  0,  0,  0]], dtype=int32)"
            ]
          },
          "metadata": {},
          "execution_count": 74
        }
      ]
    },
    {
      "cell_type": "code",
      "metadata": {
        "id": "9u80V2nL1gI1"
      },
      "source": [
        "# input_layer_5 = Input(shape = (10, ), name = \"Input_Layer_5\")\n",
        "\n",
        "# embed_layer_subclean = Embedding(input_dim = len(subclean_index) + 1, output_dim = 5, \n",
        "#                         input_length = 10, trainable = True, \n",
        "#                         name = \"Embedding_Layer_subclean\")(input_layer_5)\n",
        "\n",
        "# flatten_5 = Flatten(name='subclean_flatten')(embed_layer_subclean)"
      ],
      "execution_count": null,
      "outputs": []
    },
    {
      "cell_type": "markdown",
      "metadata": {
        "id": "EyydaNwd22Os"
      },
      "source": [
        "#Teacher prefix"
      ]
    },
    {
      "cell_type": "code",
      "metadata": {
        "id": "Ux5ihP-c3ESf"
      },
      "source": [
        "tokenizer1 = Tokenizer()"
      ],
      "execution_count": null,
      "outputs": []
    },
    {
      "cell_type": "code",
      "metadata": {
        "id": "GuFDQn_G3ESf"
      },
      "source": [
        "tokenizer1.fit_on_texts(x_train['teacher_prefix'])"
      ],
      "execution_count": null,
      "outputs": []
    },
    {
      "cell_type": "code",
      "metadata": {
        "id": "Ea3xs1lP3ESg"
      },
      "source": [
        "teacher_index = tokenizer1.word_index"
      ],
      "execution_count": null,
      "outputs": []
    },
    {
      "cell_type": "code",
      "metadata": {
        "colab": {
          "base_uri": "https://localhost:8080/"
        },
        "id": "zzwazgFd3JsO",
        "outputId": "6936f2d2-eff5-48d0-d7b6-43ff7d80a6f3"
      },
      "source": [
        "teacher_index"
      ],
      "execution_count": null,
      "outputs": [
        {
          "output_type": "execute_result",
          "data": {
            "text/plain": [
              "{'dr': 5, 'mr': 3, 'mrs': 1, 'ms': 2, 'teacher': 4}"
            ]
          },
          "metadata": {},
          "execution_count": 79
        }
      ]
    },
    {
      "cell_type": "code",
      "metadata": {
        "id": "e9DHdriT3ESg"
      },
      "source": [
        "encoded_train_teacher = tokenizer1.texts_to_sequences(x_train['teacher_prefix'])"
      ],
      "execution_count": null,
      "outputs": []
    },
    {
      "cell_type": "code",
      "metadata": {
        "id": "ZSsnwimXCJyA"
      },
      "source": [
        "encoded_cv_teacher = tokenizer1.texts_to_sequences(cv_train['teacher_prefix'])\n",
        "encoded_test_teacher = tokenizer1.texts_to_sequences(y_train['teacher_prefix'])"
      ],
      "execution_count": null,
      "outputs": []
    },
    {
      "cell_type": "code",
      "metadata": {
        "id": "cTIk_hFsiEtK"
      },
      "source": [
        "encoded_train_teacher = np.array(encoded_train_teacher)\n",
        "encoded_cv_teacher = np.array(encoded_cv_teacher)\n",
        "encoded_test_teacher = np.array(encoded_test_teacher)"
      ],
      "execution_count": null,
      "outputs": []
    },
    {
      "cell_type": "code",
      "metadata": {
        "colab": {
          "base_uri": "https://localhost:8080/"
        },
        "id": "NTW4bryz3ESg",
        "outputId": "7abf739a-1c67-4ad5-b9b3-c58f2f21f564"
      },
      "source": [
        "encoded_train_teacher[:5]"
      ],
      "execution_count": null,
      "outputs": [
        {
          "output_type": "execute_result",
          "data": {
            "text/plain": [
              "array([[1],\n",
              "       [1],\n",
              "       [1],\n",
              "       [1],\n",
              "       [2]])"
            ]
          },
          "metadata": {},
          "execution_count": 83
        }
      ]
    },
    {
      "cell_type": "code",
      "metadata": {
        "id": "JY_zLu_c3ESg"
      },
      "source": [
        "# input_layer_6 = Input(shape = (1, ), name = \"Input_Layer_6\")\n",
        "\n",
        "# embed_layer_teacher = Embedding(input_dim = len(teacher_index) + 1, output_dim = 5, \n",
        "#                         input_length = 1, trainable = True, \n",
        "#                         name = \"Embedding_Layer_state\")(input_layer_6)\n",
        "\n",
        "# flatten_6 = Flatten(name='teacher_flatten')(embed_layer_teacher)"
      ],
      "execution_count": null,
      "outputs": []
    },
    {
      "cell_type": "markdown",
      "metadata": {
        "id": "nnEG6b4_8Sev"
      },
      "source": [
        "#Numerical data"
      ]
    },
    {
      "cell_type": "code",
      "metadata": {
        "id": "qLEntGh524W5"
      },
      "source": [
        "num_data_train = pd.concat((x_train['price'],x_train['teacher_number_of_previously_posted_projects']),axis=1)"
      ],
      "execution_count": null,
      "outputs": []
    },
    {
      "cell_type": "code",
      "metadata": {
        "id": "dCXbDGYOCS5l"
      },
      "source": [
        "num_data_cv = pd.concat((cv_train['price'],cv_train['teacher_number_of_previously_posted_projects']),axis=1)\n",
        "num_data_test = pd.concat((y_train['price'],y_train['teacher_number_of_previously_posted_projects']),axis=1)"
      ],
      "execution_count": null,
      "outputs": []
    },
    {
      "cell_type": "code",
      "metadata": {
        "colab": {
          "base_uri": "https://localhost:8080/"
        },
        "id": "SB1us47H9-FF",
        "outputId": "3127844f-0594-4b23-c096-7518843c3f4a"
      },
      "source": [
        "num_data_train.values"
      ],
      "execution_count": null,
      "outputs": [
        {
          "output_type": "execute_result",
          "data": {
            "text/plain": [
              "array([[1527.44,    0.  ],\n",
              "       [ 275.99,    0.  ],\n",
              "       [ 139.98,   14.  ],\n",
              "       ...,\n",
              "       [ 208.04,    0.  ],\n",
              "       [ 178.36,    2.  ],\n",
              "       [ 103.15,    6.  ]])"
            ]
          },
          "metadata": {},
          "execution_count": 87
        }
      ]
    },
    {
      "cell_type": "code",
      "metadata": {
        "id": "QNl69qp9-HeP"
      },
      "source": [
        "# input_layer_7 = Input(shape = (2, ), name = \"Input_Layer_6\")\n",
        "\n",
        "# dense_num = Dense(32,activation='relu',kernel_initializer='he_normal',name='dense_num')(input_layer_7)\n",
        "\n",
        "# flatten_7 = Flatten(name='num_flatten')(dense_num)"
      ],
      "execution_count": null,
      "outputs": []
    },
    {
      "cell_type": "code",
      "metadata": {
        "id": "z3J59HgC_Vqf"
      },
      "source": [
        ""
      ],
      "execution_count": null,
      "outputs": []
    },
    {
      "cell_type": "markdown",
      "metadata": {
        "id": "oRpsoY3cEWL8"
      },
      "source": [
        "#MODEL 1"
      ]
    },
    {
      "cell_type": "code",
      "metadata": {
        "id": "Rnag3qSXKjF_"
      },
      "source": [
        "tf.keras.backend.clear_session()"
      ],
      "execution_count": null,
      "outputs": []
    },
    {
      "cell_type": "code",
      "metadata": {
        "id": "nGa7VsZQKjGA"
      },
      "source": [
        "input_layer_1 = Input(shape = (350, ), name = \"Input_Layer_1\")\n",
        "\n",
        "embed_layer_essay = Embedding(input_dim = len(word_index) + 1, output_dim = 300, weights = [embedding_matrix], \n",
        "                        input_length = 350, trainable = False, \n",
        "                        name = \"Embedding_Layer_essay\")(input_layer_1)\n",
        "\n",
        "lstm_layer = LSTM(32)(embed_layer_essay)\n",
        "\n",
        "flatten_1 = Flatten(name='lstm_flatten')(lstm_layer)\n"
      ],
      "execution_count": null,
      "outputs": []
    },
    {
      "cell_type": "code",
      "metadata": {
        "id": "NCP5XteQKtSj"
      },
      "source": [
        "input_layer_2 = Input(shape = (1, ), name = \"Input_Layer_2\")\n",
        "\n",
        "embed_layer_state = Embedding(input_dim = len(state_index) + 1, output_dim = 5, \n",
        "                        input_length = 1, trainable = True, \n",
        "                        name = \"Embedding_Layer_state\")(input_layer_2)\n",
        "\n",
        "flatten_2 = Flatten(name='state_flatten')(embed_layer_state)"
      ],
      "execution_count": null,
      "outputs": []
    },
    {
      "cell_type": "code",
      "metadata": {
        "id": "Ktn56yRjKtSk"
      },
      "source": [
        "input_layer_3 = Input(shape = (1, ), name = \"Input_Layer_3\")\n",
        "\n",
        "embed_layer_grade = Embedding(input_dim = len(grade_index) + 1, output_dim = 5, \n",
        "                        input_length = 1, trainable = True, \n",
        "                        name = \"Embedding_Layer_grade\")(input_layer_3)\n",
        "\n",
        "flatten_3 = Flatten(name='grade_flatten')(embed_layer_grade)"
      ],
      "execution_count": null,
      "outputs": []
    },
    {
      "cell_type": "code",
      "metadata": {
        "id": "80wx3j9ZKtSk"
      },
      "source": [
        "input_layer_4 = Input(shape = (10, ), name = \"Input_Layer_4\")\n",
        "\n",
        "embed_layer_clean = Embedding(input_dim = len(clean_index) + 1, output_dim = 5, \n",
        "                        input_length = 10, trainable = True, \n",
        "                        name = \"Embedding_Layer_clean\")(input_layer_4)\n",
        "\n",
        "flatten_4 = Flatten(name='clean_flatten')(embed_layer_clean)"
      ],
      "execution_count": null,
      "outputs": []
    },
    {
      "cell_type": "code",
      "metadata": {
        "id": "zRTkeYHEKtSk"
      },
      "source": [
        "input_layer_5 = Input(shape = (10, ), name = \"Input_Layer_5\")\n",
        "\n",
        "embed_layer_subclean = Embedding(input_dim = len(subclean_index) + 1, output_dim = 5, \n",
        "                        input_length = 10, trainable = True, \n",
        "                        name = \"Embedding_Layer_subclean\")(input_layer_5)\n",
        "\n",
        "flatten_5 = Flatten(name='subclean_flatten')(embed_layer_subclean)"
      ],
      "execution_count": null,
      "outputs": []
    },
    {
      "cell_type": "code",
      "metadata": {
        "id": "9z-WvvLQKtSk"
      },
      "source": [
        "input_layer_6 = Input(shape = (1, ), name = \"Input_Layer_6\")\n",
        "\n",
        "embed_layer_teacher = Embedding(input_dim = len(teacher_index) + 1, output_dim = 5, \n",
        "                        input_length = 1, trainable = True, \n",
        "                        name = \"Embedding_Layer_teacher\")(input_layer_6)\n",
        "\n",
        "flatten_6 = Flatten(name='teacher_flatten')(embed_layer_teacher)"
      ],
      "execution_count": null,
      "outputs": []
    },
    {
      "cell_type": "code",
      "metadata": {
        "id": "bve9Yd32KtSk"
      },
      "source": [
        "input_layer_7 = Input(shape = (2, ), name = \"Input_Layer_7\")\n",
        "\n",
        "dense_num_layer = Dense(32,activation='relu',kernel_initializer='he_normal',name='dense_num')(input_layer_7)\n",
        "\n",
        "# flatten_7 = Flatten(name='num_flatten')(dense_num)"
      ],
      "execution_count": null,
      "outputs": []
    },
    {
      "cell_type": "code",
      "metadata": {
        "id": "Z7UJ3uI-EXSn"
      },
      "source": [
        "concat_layer_1 = Concatenate()([flatten_1,flatten_2,flatten_3,flatten_4,flatten_5,flatten_6,dense_num_layer])\n",
        "\n",
        "dense_1 = Dense(512,activation='relu',kernel_initializer='he_normal',name='dense1')(concat_layer_1)\n",
        "\n",
        "drop_1 = Dropout(0.8, name = \"Dropout_layer_1\")(dense_1)\n",
        "\n",
        "dense_2 = Dense(256,activation='relu',kernel_initializer='he_normal',name='dense2')(drop_1)\n",
        "\n",
        "drop_2 = Dropout(0.6, name = \"Dropout_layer_2\")(dense_2)\n",
        "\n",
        "dense_3 = Dense(128,activation='relu',kernel_initializer='he_normal',name='dense3')(drop_2)\n",
        "\n",
        "drop_3 = Dropout(0.6, name = \"Dropout_layer_3\")(dense_3)\n",
        "\n",
        "dense_4 = Dense(64,activation='relu',kernel_initializer='he_normal',name='dense4')(drop_3)\n",
        "\n",
        "dense_5 = Dense(1,activation='sigmoid',name='output')(dense_4)\n",
        "\n",
        "model1 = Model(inputs=[input_layer_1,input_layer_2,input_layer_3,input_layer_4,input_layer_5,input_layer_6,input_layer_7]\n",
        "               ,outputs=dense_5)\n",
        "\n"
      ],
      "execution_count": null,
      "outputs": []
    },
    {
      "cell_type": "code",
      "metadata": {
        "colab": {
          "base_uri": "https://localhost:8080/"
        },
        "id": "GVT0ccfDN95Z",
        "outputId": "6b6d35e8-26bb-47b1-9980-9fa5316f04b7"
      },
      "source": [
        "model1.summary()"
      ],
      "execution_count": null,
      "outputs": [
        {
          "output_type": "stream",
          "name": "stdout",
          "text": [
            "Model: \"model\"\n",
            "__________________________________________________________________________________________________\n",
            "Layer (type)                    Output Shape         Param #     Connected to                     \n",
            "==================================================================================================\n",
            "Input_Layer_1 (InputLayer)      [(None, 350)]        0                                            \n",
            "__________________________________________________________________________________________________\n",
            "Embedding_Layer_essay (Embeddin (None, 350, 300)     13878000    Input_Layer_1[0][0]              \n",
            "__________________________________________________________________________________________________\n",
            "Input_Layer_2 (InputLayer)      [(None, 1)]          0                                            \n",
            "__________________________________________________________________________________________________\n",
            "Input_Layer_3 (InputLayer)      [(None, 1)]          0                                            \n",
            "__________________________________________________________________________________________________\n",
            "Input_Layer_4 (InputLayer)      [(None, 10)]         0                                            \n",
            "__________________________________________________________________________________________________\n",
            "Input_Layer_5 (InputLayer)      [(None, 10)]         0                                            \n",
            "__________________________________________________________________________________________________\n",
            "Input_Layer_6 (InputLayer)      [(None, 1)]          0                                            \n",
            "__________________________________________________________________________________________________\n",
            "lstm (LSTM)                     (None, 32)           42624       Embedding_Layer_essay[0][0]      \n",
            "__________________________________________________________________________________________________\n",
            "Embedding_Layer_state (Embeddin (None, 1, 5)         260         Input_Layer_2[0][0]              \n",
            "__________________________________________________________________________________________________\n",
            "Embedding_Layer_grade (Embeddin (None, 1, 5)         25          Input_Layer_3[0][0]              \n",
            "__________________________________________________________________________________________________\n",
            "Embedding_Layer_clean (Embeddin (None, 10, 5)        80          Input_Layer_4[0][0]              \n",
            "__________________________________________________________________________________________________\n",
            "Embedding_Layer_subclean (Embed (None, 10, 5)        190         Input_Layer_5[0][0]              \n",
            "__________________________________________________________________________________________________\n",
            "Embedding_Layer_teacher (Embedd (None, 1, 5)         30          Input_Layer_6[0][0]              \n",
            "__________________________________________________________________________________________________\n",
            "Input_Layer_7 (InputLayer)      [(None, 2)]          0                                            \n",
            "__________________________________________________________________________________________________\n",
            "lstm_flatten (Flatten)          (None, 32)           0           lstm[0][0]                       \n",
            "__________________________________________________________________________________________________\n",
            "state_flatten (Flatten)         (None, 5)            0           Embedding_Layer_state[0][0]      \n",
            "__________________________________________________________________________________________________\n",
            "grade_flatten (Flatten)         (None, 5)            0           Embedding_Layer_grade[0][0]      \n",
            "__________________________________________________________________________________________________\n",
            "clean_flatten (Flatten)         (None, 50)           0           Embedding_Layer_clean[0][0]      \n",
            "__________________________________________________________________________________________________\n",
            "subclean_flatten (Flatten)      (None, 50)           0           Embedding_Layer_subclean[0][0]   \n",
            "__________________________________________________________________________________________________\n",
            "teacher_flatten (Flatten)       (None, 5)            0           Embedding_Layer_teacher[0][0]    \n",
            "__________________________________________________________________________________________________\n",
            "dense_num (Dense)               (None, 32)           96          Input_Layer_7[0][0]              \n",
            "__________________________________________________________________________________________________\n",
            "concatenate (Concatenate)       (None, 179)          0           lstm_flatten[0][0]               \n",
            "                                                                 state_flatten[0][0]              \n",
            "                                                                 grade_flatten[0][0]              \n",
            "                                                                 clean_flatten[0][0]              \n",
            "                                                                 subclean_flatten[0][0]           \n",
            "                                                                 teacher_flatten[0][0]            \n",
            "                                                                 dense_num[0][0]                  \n",
            "__________________________________________________________________________________________________\n",
            "dense1 (Dense)                  (None, 512)          92160       concatenate[0][0]                \n",
            "__________________________________________________________________________________________________\n",
            "Dropout_layer_1 (Dropout)       (None, 512)          0           dense1[0][0]                     \n",
            "__________________________________________________________________________________________________\n",
            "dense2 (Dense)                  (None, 256)          131328      Dropout_layer_1[0][0]            \n",
            "__________________________________________________________________________________________________\n",
            "Dropout_layer_2 (Dropout)       (None, 256)          0           dense2[0][0]                     \n",
            "__________________________________________________________________________________________________\n",
            "dense3 (Dense)                  (None, 128)          32896       Dropout_layer_2[0][0]            \n",
            "__________________________________________________________________________________________________\n",
            "Dropout_layer_3 (Dropout)       (None, 128)          0           dense3[0][0]                     \n",
            "__________________________________________________________________________________________________\n",
            "dense4 (Dense)                  (None, 64)           8256        Dropout_layer_3[0][0]            \n",
            "__________________________________________________________________________________________________\n",
            "output (Dense)                  (None, 1)            65          dense4[0][0]                     \n",
            "==================================================================================================\n",
            "Total params: 14,186,010\n",
            "Trainable params: 308,010\n",
            "Non-trainable params: 13,878,000\n",
            "__________________________________________________________________________________________________\n"
          ]
        }
      ]
    },
    {
      "cell_type": "code",
      "metadata": {
        "colab": {
          "base_uri": "https://localhost:8080/",
          "height": 442
        },
        "id": "Gx-xPDsSUAx7",
        "outputId": "8105fb89-b063-49a1-c53c-eabddedb97eb"
      },
      "source": [
        "tf.keras.utils.plot_model(model1, show_shapes = True, to_file = \"model1.png\")"
      ],
      "execution_count": null,
      "outputs": [
        {
          "output_type": "execute_result",
          "data": {
            "image/png": "[encoded data removed]",
            "text/plain": [
              "<IPython.core.display.Image object>"
            ]
          },
          "metadata": {},
          "execution_count": 81
        }
      ]
    },
    {
      "cell_type": "code",
      "metadata": {
        "id": "YxzjD_XuwNaX"
      },
      "source": [
        "\n",
        " \n",
        "if not os.path.isdir('logs'):\n",
        "    os.mkdir('logs')\n"
      ],
      "execution_count": null,
      "outputs": []
    },
    {
      "cell_type": "code",
      "metadata": {
        "id": "4-yZbzCFQ8dx"
      },
      "source": [
        "tb_callback = TensorBoard(log_dir='/content/logs',histogram_freq=1)\n",
        "earlystop = EarlyStopping(monitor = 'val_aucroc',verbose=1,patience = 2)"
      ],
      "execution_count": null,
      "outputs": []
    },
    {
      "cell_type": "code",
      "metadata": {
        "id": "zAtI72TyUEvw"
      },
      "source": [
        "opt = Adam(0.001)"
      ],
      "execution_count": null,
      "outputs": []
    },
    {
      "cell_type": "code",
      "metadata": {
        "id": "TiL_rLD8W9VA"
      },
      "source": [
        "model1.compile(optimizer=opt,loss='binary_crossentropy',metrics=[aucroc])"
      ],
      "execution_count": null,
      "outputs": []
    },
    {
      "cell_type": "markdown",
      "metadata": {
        "id": "IW_rVb71bejF"
      },
      "source": [
        "#fit data"
      ]
    },
    {
      "cell_type": "code",
      "metadata": {
        "colab": {
          "base_uri": "https://localhost:8080/"
        },
        "id": "ThcasU4ZYRc4",
        "outputId": "dfedc315-ae49-4bfb-c8d6-9ab448ebb319"
      },
      "source": [
        "hist = model1.fit([padded_train,encoded_train_state,encoded_train_grade,padded_train_clean,padded_train_subclean,encoded_train_teacher,num_data_train.values],\n",
        "                  x_test.values,\n",
        "                  validation_data = ([padded_cv,encoded_cv_state,encoded_cv_grade,padded_cv_clean,padded_cv_subclean,encoded_cv_teacher,num_data_cv],\n",
        "                                     cv_test.values),\n",
        "                  epochs = 5,\n",
        "                  batch_size = 64,\n",
        "                  validation_batch_size = 512,\n",
        "                  callbacks = [tb_callback])"
      ],
      "execution_count": null,
      "outputs": [
        {
          "output_type": "stream",
          "name": "stdout",
          "text": [
            "Epoch 1/5\n",
            "1025/1025 [==============================] - 64s 62ms/step - loss: 0.4233 - aucroc: 0.5233 - val_loss: 0.4239 - val_aucroc: 0.5421\n",
            "Epoch 2/5\n",
            "1025/1025 [==============================] - 63s 61ms/step - loss: 0.4231 - aucroc: 0.5228 - val_loss: 0.4212 - val_aucroc: 0.5732\n",
            "Epoch 3/5\n",
            "1025/1025 [==============================] - 54s 53ms/step - loss: 0.4228 - aucroc: 0.5234 - val_loss: 0.4225 - val_aucroc: 0.5475\n",
            "Epoch 4/5\n",
            "1025/1025 [==============================] - 51s 50ms/step - loss: 0.4230 - aucroc: 0.5305 - val_loss: 0.4217 - val_aucroc: 0.5535\n",
            "Epoch 5/5\n",
            "1025/1025 [==============================] - 53s 51ms/step - loss: 0.4238 - aucroc: 0.5299 - val_loss: 0.4236 - val_aucroc: 0.5544\n"
          ]
        }
      ]
    },
    {
      "cell_type": "code",
      "metadata": {
        "colab": {
          "base_uri": "https://localhost:8080/"
        },
        "id": "34fuNpyIemm9",
        "outputId": "25140912-56c1-4008-f9ac-5a9029142053"
      },
      "source": [
        "cv_test.value_counts()"
      ],
      "execution_count": null,
      "outputs": [
        {
          "output_type": "execute_result",
          "data": {
            "text/plain": [
              "1    18541\n",
              "0     3309\n",
              "Name: project_is_approved, dtype: int64"
            ]
          },
          "metadata": {},
          "execution_count": 244
        }
      ]
    },
    {
      "cell_type": "code",
      "metadata": {
        "colab": {
          "base_uri": "https://localhost:8080/"
        },
        "id": "TcYxs_tj5w49",
        "outputId": "8c9845e6-c162-4f37-aeae-3593f78a4b86"
      },
      "source": [
        "x_test.value_counts()"
      ],
      "execution_count": null,
      "outputs": [
        {
          "output_type": "execute_result",
          "data": {
            "text/plain": [
              "1    55623\n",
              "0     9925\n",
              "Name: project_is_approved, dtype: int64"
            ]
          },
          "metadata": {},
          "execution_count": 245
        }
      ]
    },
    {
      "cell_type": "code",
      "metadata": {
        "id": "FW5g-6vVoqCG"
      },
      "source": [
        "# tensor = tf.constant([[1,2.4,3],[4,5,6],[7,8,9]])\n"
      ],
      "execution_count": null,
      "outputs": []
    },
    {
      "cell_type": "code",
      "metadata": {
        "colab": {
          "base_uri": "https://localhost:8080/"
        },
        "id": "V6xa7gIWoq2v",
        "outputId": "c8313bda-4848-4b6b-d555-271fea842dd3"
      },
      "source": [
        "# tensor.numpy()"
      ],
      "execution_count": null,
      "outputs": [
        {
          "output_type": "execute_result",
          "data": {
            "text/plain": [
              "array([[1. , 2.4, 3. ],\n",
              "       [4. , 5. , 6. ],\n",
              "       [7. , 8. , 9. ]], dtype=float32)"
            ]
          },
          "metadata": {},
          "execution_count": 225
        }
      ]
    },
    {
      "cell_type": "code",
      "metadata": {
        "id": "KOaPmsBXZr4l"
      },
      "source": [
        "param = hist.history"
      ],
      "execution_count": null,
      "outputs": []
    },
    {
      "cell_type": "code",
      "metadata": {
        "colab": {
          "base_uri": "https://localhost:8080/",
          "height": 654
        },
        "id": "63QiNXpFZ_WD",
        "outputId": "e17c5878-c7d4-4d6a-9b28-02c68ed798b0"
      },
      "source": [
        "plt.figure(figsize=(12,8))\n",
        "plt.subplot(121)\n",
        "plt.plot(param['aucroc'],label = 'train')\n",
        "plt.plot(param['val_aucroc'],label='validation')\n",
        "plt.xlabel('Epoch')\n",
        "plt.ylabel('AUCROC')\n",
        "plt.legend()\n",
        "\n",
        "plt.subplot(122)\n",
        "plt.plot(param['loss'],label='train_loss')\n",
        "plt.plot(param['val_loss'],label='valid_loss')\n",
        "plt.xlabel('Epoch')\n",
        "plt.ylabel('Loss')\n",
        "plt.legend()\n",
        "plt.tight_layout()\n",
        "plt.suptitle('Param Chart',y = 1.1)\n",
        "\n",
        "plt.show()"
      ],
      "execution_count": null,
      "outputs": [
        {
          "output_type": "display_data",
          "data": {
            "image/png": "[encoded data removed]",
            "text/plain": [
              "<Figure size 864x576 with 2 Axes>"
            ]
          },
          "metadata": {
            "needs_background": "light"
          }
        }
      ]
    },
    {
      "cell_type": "code",
      "metadata": {
        "id": "TBq2wlyJouuO"
      },
      "source": [
        "# %tensorboard --logdir /content/logs"
      ],
      "execution_count": 1,
      "outputs": []
    },
    {
      "cell_type": "markdown",
      "metadata": {
        "id": "gfhZC7Ps74vr"
      },
      "source": [
        "#MODEL - 2"
      ]
    },
    {
      "cell_type": "code",
      "metadata": {
        "id": "UcFwNWQE75qk"
      },
      "source": [
        "vect = TfidfVectorizer()"
      ],
      "execution_count": null,
      "outputs": []
    },
    {
      "cell_type": "code",
      "metadata": {
        "colab": {
          "base_uri": "https://localhost:8080/"
        },
        "id": "IRWPr_yC8kOg",
        "outputId": "dc521f3c-e92a-4d4a-adf9-50f244b03087"
      },
      "source": [
        "vect.fit_transform(x_train['essay'])"
      ],
      "execution_count": null,
      "outputs": [
        {
          "output_type": "execute_result",
          "data": {
            "text/plain": [
              "<65548x46223 sparse matrix of type '<class 'numpy.float64'>'\n",
              "\twith 7079902 stored elements in Compressed Sparse Row format>"
            ]
          },
          "metadata": {},
          "execution_count": 91
        }
      ]
    },
    {
      "cell_type": "code",
      "metadata": {
        "id": "ED-m2tBU8sXW"
      },
      "source": [
        "word_idf  = dict(zip(vect.get_feature_names(),vect.idf_))"
      ],
      "execution_count": null,
      "outputs": []
    },
    {
      "cell_type": "code",
      "metadata": {
        "id": "XxaXQicY8_S9"
      },
      "source": [
        "# word_idf"
      ],
      "execution_count": null,
      "outputs": []
    },
    {
      "cell_type": "code",
      "metadata": {
        "colab": {
          "base_uri": "https://localhost:8080/",
          "height": 269
        },
        "id": "vj3xVpUh9aB0",
        "outputId": "5935e89c-7a50-4df7-a28f-589fa5d1e96a"
      },
      "source": [
        "sns.boxplot(y=vect.idf_)"
      ],
      "execution_count": null,
      "outputs": [
        {
          "output_type": "execute_result",
          "data": {
            "text/plain": [
              "<matplotlib.axes._subplots.AxesSubplot at 0x7f00c36a3ed0>"
            ]
          },
          "metadata": {},
          "execution_count": 101
        },
        {
          "output_type": "display_data",
          "data": {
            "image/png": "[encoded data removed]",
            "text/plain": [
              "<Figure size 432x288 with 1 Axes>"
            ]
          },
          "metadata": {
            "needs_background": "light"
          }
        }
      ]
    },
    {
      "cell_type": "code",
      "metadata": {
        "colab": {
          "base_uri": "https://localhost:8080/",
          "height": 282
        },
        "id": "8K_Y3NJa92Ho",
        "outputId": "bb900d84-46ad-4f35-f392-9c0dd6913e61"
      },
      "source": [
        "sns.kdeplot(vect.idf_)"
      ],
      "execution_count": null,
      "outputs": [
        {
          "output_type": "execute_result",
          "data": {
            "text/plain": [
              "<matplotlib.axes._subplots.AxesSubplot at 0x7f00c2a97210>"
            ]
          },
          "metadata": {},
          "execution_count": 102
        },
        {
          "output_type": "display_data",
          "data": {
            "image/png": "[encoded data removed]",
            "text/plain": [
              "<Figure size 432x288 with 1 Axes>"
            ]
          },
          "metadata": {
            "needs_background": "light"
          }
        }
      ]
    },
    {
      "cell_type": "code",
      "metadata": {
        "id": "rGKMHM6qAmuL"
      },
      "source": [
        "p_25 = np.percentile(sorted(vect.idf_),25)"
      ],
      "execution_count": null,
      "outputs": []
    },
    {
      "cell_type": "code",
      "metadata": {
        "id": "22e4nhdyAwWe"
      },
      "source": [
        "p_75 = np.percentile(sorted(vect.idf_),75)"
      ],
      "execution_count": null,
      "outputs": []
    },
    {
      "cell_type": "code",
      "metadata": {
        "id": "EwiZ_ujVA6xY"
      },
      "source": [
        "iqr = p_75 - p_25"
      ],
      "execution_count": null,
      "outputs": []
    },
    {
      "cell_type": "code",
      "metadata": {
        "id": "1iGdRUfZA92A"
      },
      "source": [
        "u_whisker = np.percentile(sorted(vect.idf_),75) + 1.5*iqr"
      ],
      "execution_count": null,
      "outputs": []
    },
    {
      "cell_type": "code",
      "metadata": {
        "id": "GRJD8H1JBB6d"
      },
      "source": [
        "l_whisker = np.percentile(sorted(vect.idf_),25) - 1.5*iqr"
      ],
      "execution_count": null,
      "outputs": []
    },
    {
      "cell_type": "code",
      "metadata": {
        "id": "tnrciwJeEtbT"
      },
      "source": [
        "fin_dict = {k:v for k,v in word_idf.items() if v > l_whisker and v < u_whisker }"
      ],
      "execution_count": null,
      "outputs": []
    },
    {
      "cell_type": "code",
      "metadata": {
        "colab": {
          "base_uri": "https://localhost:8080/"
        },
        "id": "3p7LzU2sSiuV",
        "outputId": "97b0cd2a-61eb-42c3-c902-7507ba290992"
      },
      "source": [
        "len(fin_dict),len(word_idf)"
      ],
      "execution_count": null,
      "outputs": [
        {
          "output_type": "execute_result",
          "data": {
            "text/plain": [
              "(43587, 46223)"
            ]
          },
          "metadata": {},
          "execution_count": 100
        }
      ]
    },
    {
      "cell_type": "markdown",
      "metadata": {
        "id": "dWDIsg_KcPZB"
      },
      "source": [
        "##Excluding the high/v.low IDF words"
      ]
    },
    {
      "cell_type": "code",
      "metadata": {
        "id": "KDXEFiT0TKHK"
      },
      "source": [
        "def preprocess(text):\n",
        "    x = text.split() \n",
        "    # print(x)\n",
        "    fin_x = [y for y in x if y.lower()  in fin_dict.keys()]\n",
        "    # print(fin_x)\n",
        "    return ' '.join(fin_x)"
      ],
      "execution_count": null,
      "outputs": []
    },
    {
      "cell_type": "code",
      "metadata": {
        "id": "nxfagWh4TxNS"
      },
      "source": [
        "t = 'I have a baby , and what do you want 1942 arizona'"
      ],
      "execution_count": null,
      "outputs": []
    },
    {
      "cell_type": "code",
      "metadata": {
        "id": "7ge0LokST4D0"
      },
      "source": [
        "f = preprocess(t)"
      ],
      "execution_count": null,
      "outputs": []
    },
    {
      "cell_type": "code",
      "metadata": {
        "id": "fuai-FvKT7LD"
      },
      "source": [
        "x_train['tf_text'] = x_train['essay'].apply(preprocess)\n",
        "cv_train['tf_text'] = cv_train['essay'].apply(preprocess)\n",
        "y_train['tf_text'] = y_train['essay'].apply(preprocess)"
      ],
      "execution_count": null,
      "outputs": []
    },
    {
      "cell_type": "code",
      "metadata": {
        "colab": {
          "base_uri": "https://localhost:8080/",
          "height": 35
        },
        "id": "othzPz0QUaIV",
        "outputId": "26ff01f5-ee7b-488c-b39d-0148a6201042"
      },
      "source": [
        "x_train['tf_text'][0]"
      ],
      "execution_count": null,
      "outputs": [
        {
          "output_type": "execute_result",
          "data": {
            "application/vnd.google.colaboratory.intrinsic+json": {
              "type": "string"
            },
            "text/plain": [
              "'fairy tale lakeshore pacing tall tales paul bunyan johnny appleseed sink vs float'"
            ]
          },
          "metadata": {},
          "execution_count": 89
        }
      ]
    },
    {
      "cell_type": "code",
      "metadata": {
        "colab": {
          "base_uri": "https://localhost:8080/"
        },
        "id": "WBO3MnywUmCu",
        "outputId": "1b792ebc-ed74-45f6-f944-db8e5e05759b"
      },
      "source": [
        "word_idf['tall']"
      ],
      "execution_count": null,
      "outputs": [
        {
          "output_type": "execute_result",
          "data": {
            "text/plain": [
              "6.886546546468554"
            ]
          },
          "metadata": {},
          "execution_count": 90
        }
      ]
    },
    {
      "cell_type": "code",
      "metadata": {
        "id": "3hsnI0JiOFmb"
      },
      "source": [
        "tok = Tokenizer()"
      ],
      "execution_count": null,
      "outputs": []
    },
    {
      "cell_type": "code",
      "metadata": {
        "id": "n9rrzl4kOFtN"
      },
      "source": [
        "tok.fit_on_texts(x_train['tf_text'])"
      ],
      "execution_count": null,
      "outputs": []
    },
    {
      "cell_type": "code",
      "metadata": {
        "id": "HpyA4c2GOF9Y"
      },
      "source": [
        "tf_index = tok.word_index"
      ],
      "execution_count": null,
      "outputs": []
    },
    {
      "cell_type": "code",
      "metadata": {
        "id": "ts2ntKfJOGD3"
      },
      "source": [
        "encoded_train_tf = np.array(tok.texts_to_sequences(x_train['tf_text']))\n",
        "encoded_cv_tf = np.array(tok.texts_to_sequences(cv_train['tf_text']))\n",
        "encoded_test_tf = np.array(tok.texts_to_sequences(y_train['tf_text']))"
      ],
      "execution_count": null,
      "outputs": []
    },
    {
      "cell_type": "code",
      "metadata": {
        "id": "VeYmdSmOQdYQ"
      },
      "source": [
        "padded_train_tf = pad_sequences(encoded_train_tf, maxlen= 350,padding='post',truncating='post')"
      ],
      "execution_count": null,
      "outputs": []
    },
    {
      "cell_type": "code",
      "metadata": {
        "id": "Oi9OL5ZjQdYQ"
      },
      "source": [
        "padded_cv_tf = pad_sequences(encoded_cv_tf, maxlen= 350,padding='post',truncating='post')\n",
        "padded_test_tf = pad_sequences(encoded_test_tf, maxlen= 350,padding='post',truncating='post')\n"
      ],
      "execution_count": null,
      "outputs": []
    },
    {
      "cell_type": "code",
      "metadata": {
        "id": "TrEg0fEhQdYQ"
      },
      "source": [
        "# with open('/content/drive/MyDrive/Datasets/glove_vectors','rb') as g:\n",
        "#     glove = pickle.load(g)\n",
        "#     words_glove = set(glove.keys())"
      ],
      "execution_count": null,
      "outputs": []
    },
    {
      "cell_type": "code",
      "metadata": {
        "colab": {
          "base_uri": "https://localhost:8080/"
        },
        "id": "qryzPhToQdYQ",
        "outputId": "be9e2cfd-2bc2-4b2e-a798-ab3627247138"
      },
      "source": [
        "embedding_matrix_tf = np.zeros((len(tf_index) + 1, 300))\n",
        "for word, i in tqdm(tf_index.items()):\n",
        "    embedding_vector_tf = glove.get(word)\n",
        "    if embedding_vector_tf is not None:\n",
        "        # words not found in embedding index will be all-zeros.\n",
        "        embedding_matrix_tf[i] = embedding_vector_tf"
      ],
      "execution_count": null,
      "outputs": [
        {
          "output_type": "stream",
          "name": "stderr",
          "text": [
            "100%|██████████| 43587/43587 [00:00<00:00, 382122.06it/s]\n"
          ]
        }
      ]
    },
    {
      "cell_type": "markdown",
      "metadata": {
        "id": "dWeUi1bxRlPU"
      },
      "source": [
        "#Input_layer_TF"
      ]
    },
    {
      "cell_type": "code",
      "metadata": {
        "id": "8j1mSU0HSN0Y"
      },
      "source": [
        "tf.keras.backend.clear_session()"
      ],
      "execution_count": null,
      "outputs": []
    },
    {
      "cell_type": "code",
      "metadata": {
        "id": "jpSN1wOQOGJo"
      },
      "source": [
        "input_layer_8 = Input(shape = (350, ), name = \"Input_Layer_8\")\n",
        "\n",
        "embed_layer_essay_tf = Embedding(input_dim = len(tf_index) + 1, output_dim = 300, weights = [embedding_matrix_tf], \n",
        "                        input_length = 350, trainable = False, \n",
        "                        name = \"Embedding_Layer_essay_tf\")(input_layer_8)\n",
        "\n",
        "lstm_layer_tf = LSTM(32)(embed_layer_essay_tf)\n",
        "\n",
        "flatten_8 = Flatten(name='lstm_flatten')(lstm_layer_tf)"
      ],
      "execution_count": null,
      "outputs": []
    },
    {
      "cell_type": "code",
      "metadata": {
        "id": "ZIuW25yzfoFp"
      },
      "source": [
        "if not os.path.isdir('logs2'):\n",
        "    os.mkdir('logs2')"
      ],
      "execution_count": null,
      "outputs": []
    },
    {
      "cell_type": "code",
      "metadata": {
        "id": "HlmuGac_fts0"
      },
      "source": [
        "tb_callback = TensorBoard(log_dir='/content/logs2',histogram_freq=1)"
      ],
      "execution_count": null,
      "outputs": []
    },
    {
      "cell_type": "code",
      "metadata": {
        "colab": {
          "base_uri": "https://localhost:8080/"
        },
        "id": "JNpgwYByOGPh",
        "outputId": "200caa1a-94ee-474d-d1de-5ca181e15edd"
      },
      "source": [
        "hist2 = model1.fit([padded_train_tf,encoded_train_state,encoded_train_grade,padded_train_clean,padded_train_subclean,encoded_train_teacher,num_data_train.values],\n",
        "                  x_test.values,\n",
        "                  validation_data = ([padded_cv_tf,encoded_cv_state,encoded_cv_grade,padded_cv_clean,padded_cv_subclean,encoded_cv_teacher,num_data_cv],\n",
        "                                     cv_test.values),\n",
        "                  epochs = 5,\n",
        "                  batch_size = 64,\n",
        "                  validation_batch_size = 512,\n",
        "                   callbacks = [tb_callback])"
      ],
      "execution_count": null,
      "outputs": [
        {
          "output_type": "stream",
          "name": "stdout",
          "text": [
            "Epoch 1/5\n",
            "1025/1025 [==============================] - 64s 62ms/step - loss: 0.4228 - aucroc: 0.5371 - val_loss: 0.4214 - val_aucroc: 0.5427\n",
            "Epoch 2/5\n",
            "1025/1025 [==============================] - 54s 52ms/step - loss: 0.4224 - aucroc: 0.5390 - val_loss: 0.4221 - val_aucroc: 0.5426\n",
            "Epoch 3/5\n",
            "1025/1025 [==============================] - 53s 51ms/step - loss: 0.4230 - aucroc: 0.5389 - val_loss: 0.4216 - val_aucroc: 0.5469\n",
            "Epoch 4/5\n",
            "1025/1025 [==============================] - 51s 50ms/step - loss: 0.4237 - aucroc: 0.5337 - val_loss: 0.4317 - val_aucroc: 0.5047\n",
            "Epoch 5/5\n",
            "1025/1025 [==============================] - 53s 52ms/step - loss: 0.4260 - aucroc: 0.5302 - val_loss: 0.4274 - val_aucroc: 0.5294\n"
          ]
        }
      ]
    },
    {
      "cell_type": "code",
      "metadata": {
        "id": "pr-jXFahOGVL"
      },
      "source": [
        "# %tensorboard --logdir /content/logs2"
      ],
      "execution_count": 2,
      "outputs": []
    },
    {
      "cell_type": "markdown",
      "metadata": {
        "id": "HAUYqrbGlivb"
      },
      "source": [
        "As the data is imbalanced, when splitting the validation dataset into batches, few batches have only positive/negative y values. This throws an error for division by 0 when calculating AUC value"
      ]
    },
    {
      "cell_type": "code",
      "metadata": {
        "id": "uYhIMP0KmVk4"
      },
      "source": [
        "param = hist2.history"
      ],
      "execution_count": null,
      "outputs": []
    },
    {
      "cell_type": "code",
      "metadata": {
        "colab": {
          "base_uri": "https://localhost:8080/",
          "height": 654
        },
        "id": "2DF4naRemWBw",
        "outputId": "a14fd192-69c2-47fe-f5b7-de982c523810"
      },
      "source": [
        "plt.figure(figsize=(12,8))\n",
        "plt.subplot(121)\n",
        "plt.plot(param['aucroc'],label = 'train')\n",
        "plt.plot(param['val_aucroc'],label='validation')\n",
        "plt.xlabel('Epoch')\n",
        "plt.ylabel('AUCROC')\n",
        "plt.legend()\n",
        "\n",
        "plt.subplot(122)\n",
        "plt.plot(param['loss'],label='train_loss')\n",
        "plt.plot(param['val_loss'],label='valid_loss')\n",
        "plt.xlabel('Epoch')\n",
        "plt.ylabel('Loss')\n",
        "plt.legend()\n",
        "plt.tight_layout()\n",
        "plt.suptitle('Param Chart',y = 1.1)\n",
        "\n",
        "plt.show()"
      ],
      "execution_count": null,
      "outputs": [
        {
          "output_type": "display_data",
          "data": {
            "image/png": "[encoded data removed]",
            "text/plain": [
              "<Figure size 864x576 with 2 Axes>"
            ]
          },
          "metadata": {
            "needs_background": "light"
          }
        }
      ]
    },
    {
      "cell_type": "markdown",
      "metadata": {
        "id": "dT-DsRdwUe3Z"
      },
      "source": [
        "#MODEL 3"
      ]
    },
    {
      "cell_type": "code",
      "metadata": {
        "id": "Rw23ZBD9OGa8"
      },
      "source": [
        "ohe_train = pd.get_dummies(data = x_train,columns=['school_state','teacher_prefix','project_grade_category','clean_categories','clean_subcategories'],drop_first=True)\n",
        "ohe_cv = pd.get_dummies(data = cv_train,columns=['school_state','teacher_prefix','project_grade_category','clean_categories','clean_subcategories'],drop_first=True)\n",
        "ohe_test = pd.get_dummies(data = y_train,columns=['school_state','teacher_prefix','project_grade_category','clean_categories','clean_subcategories'],drop_first=True)"
      ],
      "execution_count": null,
      "outputs": []
    },
    {
      "cell_type": "code",
      "metadata": {
        "id": "tiLyxicIuKxY"
      },
      "source": [
        "ohe_train.drop(['project_is_approved','essay','tf_text'],axis=1,inplace=True)\n",
        "ohe_cv.drop(['project_is_approved','essay','tf_text'],axis=1,inplace=True)\n",
        "ohe_test.drop(['project_is_approved','essay','tf_text'],axis=1,inplace=True)\n"
      ],
      "execution_count": null,
      "outputs": []
    },
    {
      "cell_type": "code",
      "metadata": {
        "colab": {
          "base_uri": "https://localhost:8080/"
        },
        "id": "BNAFD7en2_pB",
        "outputId": "bfd68ebe-867b-46bd-e2ed-b9bcea7e8e72"
      },
      "source": [
        "ohe_train.shape"
      ],
      "execution_count": null,
      "outputs": [
        {
          "output_type": "execute_result",
          "data": {
            "text/plain": [
              "(65548, 497)"
            ]
          },
          "metadata": {},
          "execution_count": 107
        }
      ]
    },
    {
      "cell_type": "code",
      "metadata": {
        "id": "1J1d8e3qx0K9"
      },
      "source": [
        "ohe_cv = pad_sequences(ohe_cv.values, maxlen= 497,padding='post',truncating='post')\n",
        "ohe_test = pad_sequences(ohe_test.values, maxlen= 497,padding='post',truncating='post')"
      ],
      "execution_count": null,
      "outputs": []
    },
    {
      "cell_type": "code",
      "metadata": {
        "id": "M3N6kZ4wOGiM"
      },
      "source": [
        "# ohe_cv[:5]"
      ],
      "execution_count": null,
      "outputs": []
    },
    {
      "cell_type": "code",
      "metadata": {
        "id": "FoEhUykDoyIf"
      },
      "source": [
        "tf.keras.backend.clear_session()"
      ],
      "execution_count": null,
      "outputs": []
    },
    {
      "cell_type": "code",
      "metadata": {
        "id": "Emdf_Igi3N6b",
        "colab": {
          "base_uri": "https://localhost:8080/"
        },
        "outputId": "8b39a937-9c25-4f28-f4c4-1d7318e71cb8"
      },
      "source": [
        "input_layer_1 = Input(shape = (350, ), name = \"Input_Layer_1\")\n",
        "\n",
        "embed_layer_essay = Embedding(input_dim = len(word_index) + 1, output_dim = 300, weights = [embedding_matrix], \n",
        "                        input_length = 350, trainable = False, \n",
        "                        name = \"Embedding_Layer_essay\")(input_layer_1)\n",
        "\n",
        "lstm_layer = LSTM(32)(embed_layer_essay)\n",
        "\n",
        "flatten_1 = Flatten(name='lstm_flatten')(lstm_layer)\n",
        "\n",
        "print(flatten_1.shape)"
      ],
      "execution_count": null,
      "outputs": [
        {
          "output_type": "stream",
          "name": "stdout",
          "text": [
            "(None, 32)\n"
          ]
        }
      ]
    },
    {
      "cell_type": "code",
      "metadata": {
        "colab": {
          "base_uri": "https://localhost:8080/"
        },
        "id": "Ro4zltFyzgFq",
        "outputId": "35ba26af-8d49-4db5-f62d-04babde0646b"
      },
      "source": [
        "ohe_train.shape"
      ],
      "execution_count": null,
      "outputs": [
        {
          "output_type": "execute_result",
          "data": {
            "text/plain": [
              "TensorShape([65548, 497, 1])"
            ]
          },
          "metadata": {},
          "execution_count": 127
        }
      ]
    },
    {
      "cell_type": "code",
      "metadata": {
        "id": "lITEkQevzYP5"
      },
      "source": [
        "ohe_train = tf.expand_dims(ohe_train,axis=2)\n",
        "ohe_cv = tf.expand_dims(ohe_cv,axis=2)\n",
        "ohe_test = tf.expand_dims(ohe_test,axis=2)\n"
      ],
      "execution_count": null,
      "outputs": []
    },
    {
      "cell_type": "code",
      "metadata": {
        "id": "OuKUvz63udq9",
        "colab": {
          "base_uri": "https://localhost:8080/"
        },
        "outputId": "3b8bbb1c-66cb-432a-ff6c-4ba19faec8cf"
      },
      "source": [
        "input_10 = Input((497,1),name='OHE_input')\n",
        "conv_1 = Conv1D(filters=512, kernel_size = 1, padding = \"valid\", activation = \"relu\",\n",
        "                kernel_initializer = tf.keras.initializers.HeUniform(),\n",
        "                name = \"Convolution_layer_1\")(input_10)\n",
        "\n",
        "conv_2 = Conv1D(filters=256, kernel_size = 1,strides=2, padding = \"valid\", activation = \"relu\",\n",
        "                kernel_initializer = tf.keras.initializers.HeUniform(),\n",
        "                name = \"Convolution_layer_2\")(conv_1)\n",
        "\n",
        "conv_3 = Conv1D(filters=128, kernel_size = 1, padding = \"valid\", activation = \"relu\",\n",
        "                kernel_initializer = tf.keras.initializers.HeUniform(),\n",
        "                name = \"Convolution_layer_3\")(conv_2)\n",
        "\n",
        "flatten_ohe = Flatten(name='flatten_ohe')(conv_3)\n",
        "\n",
        "print(flatten_ohe.shape)\n"
      ],
      "execution_count": null,
      "outputs": [
        {
          "output_type": "stream",
          "name": "stdout",
          "text": [
            "(None, 31872)\n"
          ]
        }
      ]
    },
    {
      "cell_type": "code",
      "metadata": {
        "colab": {
          "base_uri": "https://localhost:8080/"
        },
        "id": "X02pKasz39Oo",
        "outputId": "9d412217-6107-48dc-ace0-68cfdb3e5f1a"
      },
      "source": [
        "concat = Concatenate()([flatten_1,flatten_ohe])\n",
        "\n",
        "print(concat.shape)\n",
        "\n",
        "flatten = Flatten(name = \"Flatten_layer\")(concat)\n",
        "\n",
        "\n",
        "dense_10 = Dense(128,activation='relu',kernel_initializer='he_normal',name='dense_10')(flatten)\n",
        "\n",
        "drop_1 = Dropout(0.1, name = \"Dropout_layer_1\")(dense_10)\n",
        "\n",
        "dense_11 = Dense(128,activation='relu',kernel_initializer='he_normal',name='dense_11')(drop_1)\n",
        "\n",
        "dense_12 = Dense(64,activation='relu',kernel_initializer='he_normal',name='dense_12')(dense_11)\n",
        "\n",
        "drop_2 = Dropout(0.2, name = \"Dropout_layer_2\")(dense_12)\n",
        "\n",
        "dense_13 = Dense(64,activation='relu',kernel_initializer='he_normal',name='dense_13')(drop_2)\n",
        "\n",
        "drop_3 = Dropout(0.1, name = \"Dropout_layer_3\")(dense_13)\n",
        "\n",
        "dense_14 = Dense(32,activation='relu',kernel_initializer='he_normal',name='dense_14')(drop_3)\n",
        "\n",
        "dense_15 = Dense(16,activation='relu',kernel_initializer='he_normal',name='dense_15')(dense_14)\n",
        "\n",
        "output_ohe = Dense(1,activation='sigmoid',name='output_layer_ohe')(dense_15)\n"
      ],
      "execution_count": null,
      "outputs": [
        {
          "output_type": "stream",
          "name": "stdout",
          "text": [
            "(None, 31904)\n"
          ]
        }
      ]
    },
    {
      "cell_type": "code",
      "metadata": {
        "id": "lSDogUWy7DBl"
      },
      "source": [
        "model3 = Model(inputs=[input_layer_1,input_10],outputs = output_ohe )"
      ],
      "execution_count": null,
      "outputs": []
    },
    {
      "cell_type": "code",
      "metadata": {
        "id": "-6rjVjIsc1lB"
      },
      "source": [
        "if not os.path.isdir('logs3'):\n",
        "    os.mkdir('logs3')"
      ],
      "execution_count": null,
      "outputs": []
    },
    {
      "cell_type": "code",
      "metadata": {
        "id": "8Jsq7gSgc1lB"
      },
      "source": [
        "tb_callback = TensorBoard(log_dir='/content/logs3',histogram_freq=1)"
      ],
      "execution_count": null,
      "outputs": []
    },
    {
      "cell_type": "code",
      "metadata": {
        "id": "88sS16DMu4dn"
      },
      "source": [
        "model3.compile(optimizer=opt,loss='binary_crossentropy',metrics=[aucroc])"
      ],
      "execution_count": null,
      "outputs": []
    },
    {
      "cell_type": "code",
      "metadata": {
        "colab": {
          "base_uri": "https://localhost:8080/"
        },
        "id": "_uH5NyqcqWY_",
        "outputId": "411fd55b-c966-4ae9-fc7a-a412b3b458d5"
      },
      "source": [
        "hist3 = model3.fit([padded_train,ohe_train],x_test.values,\n",
        "                   validation_data=([padded_cv,ohe_cv],cv_test.values),\n",
        "                   epochs = 5,\n",
        "                   batch_size =64,\n",
        "                   validation_batch_size = 512,\n",
        "                   callbacks = [tb_callback])"
      ],
      "execution_count": null,
      "outputs": [
        {
          "output_type": "stream",
          "name": "stdout",
          "text": [
            "Epoch 1/5\n",
            "1025/1025 [==============================] - 143s 106ms/step - loss: 0.4354 - aucroc: 0.5297 - val_loss: 0.4355 - val_aucroc: 0.5409\n",
            "Epoch 2/5\n",
            "1025/1025 [==============================] - 110s 107ms/step - loss: 0.4264 - aucroc: 0.5522 - val_loss: 0.4234 - val_aucroc: 0.5591\n",
            "Epoch 3/5\n",
            "1025/1025 [==============================] - 110s 107ms/step - loss: 0.4211 - aucroc: 0.5801 - val_loss: 0.4213 - val_aucroc: 0.5663\n",
            "Epoch 4/5\n",
            "1025/1025 [==============================] - 110s 108ms/step - loss: 0.4206 - aucroc: 0.5869 - val_loss: 0.4232 - val_aucroc: 0.5631\n",
            "Epoch 5/5\n",
            "1025/1025 [==============================] - 110s 108ms/step - loss: 0.4197 - aucroc: 0.5887 - val_loss: 0.4228 - val_aucroc: 0.5628\n"
          ]
        }
      ]
    },
    {
      "cell_type": "code",
      "metadata": {
        "id": "B0m__4BOuDhR"
      },
      "source": [
        "# %tensorboard --logdir /content/logs3"
      ],
      "execution_count": 3,
      "outputs": []
    },
    {
      "cell_type": "markdown",
      "metadata": {
        "id": "HjSKKf8vF5Xt"
      },
      "source": [
        "As it can be seen from the Tensorboard, the loss for every epoch is reducing and the AUC metric is gradually increasing."
      ]
    },
    {
      "cell_type": "code",
      "metadata": {
        "colab": {
          "base_uri": "https://localhost:8080/",
          "height": 1000
        },
        "id": "HjKyBxYY2mVX",
        "outputId": "4900f4fe-cb2a-4345-c999-94fd733d627e"
      },
      "source": [
        "tf.keras.utils.plot_model(model3, show_shapes = True, to_file = \"model3.png\")"
      ],
      "execution_count": null,
      "outputs": [
        {
          "output_type": "execute_result",
          "data": {
            "image/png": "[encoded data removed]",
            "text/plain": [
              "<IPython.core.display.Image object>"
            ]
          },
          "metadata": {},
          "execution_count": 137
        }
      ]
    },
    {
      "cell_type": "code",
      "metadata": {
        "id": "7ZyNE0iPEyFY"
      },
      "source": [
        ""
      ],
      "execution_count": null,
      "outputs": []
    },
    {
      "cell_type": "markdown",
      "metadata": {
        "id": "30Fk6stWHMaR"
      },
      "source": [
        "#Observation"
      ]
    },
    {
      "cell_type": "markdown",
      "metadata": {
        "id": "mC9EJtRWHOWb"
      },
      "source": [
        "* The models are developed as mentioned in the task\n",
        "* For the 2nd model, the outlier words whose IDF values falls outside the 25th and 75th percentile of boxplot are removed before preprocessing and training the model.\n",
        "* Conv1D is being used for the 3rd model, where tf.expand_dims was used to match the input shape for the one hot encoded categorical variables\n",
        "* The loss of all 3 models reduces as the number of epochs progress and the same can be visualized through tensorboard.\n",
        "* Also, for some categorical variables when encoding, padding has been done to match the final size of the array."
      ]
    },
    {
      "cell_type": "code",
      "metadata": {
        "id": "YZeJXjL2HN06"
      },
      "source": [
        ""
      ],
      "execution_count": null,
      "outputs": []
    }
  ]
}