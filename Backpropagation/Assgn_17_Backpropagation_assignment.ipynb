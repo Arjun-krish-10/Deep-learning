{
  "nbformat": 4,
  "nbformat_minor": 0,
  "metadata": {
    "colab": {
      "name": "Assgn - 17 - Backpropagation_assignment.ipynb",
      "provenance": [],
      "collapsed_sections": []
    },
    "kernelspec": {
      "name": "python3",
      "display_name": "Python 3"
    }
  },
  "cells": [
    {
      "cell_type": "markdown",
      "metadata": {
        "id": "y871RZtRhCEH"
      },
      "source": [
        "# <font color='red'>BackPropagation</font>"
      ]
    },
    {
      "cell_type": "markdown",
      "metadata": {
        "id": "LqePYi-4mFvK"
      },
      "source": [
        "**There will be some functions that start with the word \"grader\" ex: grader_sigmoid(), grader_forwardprop(), grader_backprop() etc, you should not change those function definition.<br><br>Every Grader function has to return True.**"
      ]
    },
    {
      "cell_type": "markdown",
      "metadata": {
        "id": "0huUQ0byiI0I"
      },
      "source": [
        "## <font color='red'>Loading data </font>"
      ]
    },
    {
      "cell_type": "code",
      "metadata": {
        "id": "acgHpRM8tUt1"
      },
      "source": [
        ""
      ],
      "execution_count": null,
      "outputs": []
    },
    {
      "cell_type": "code",
      "metadata": {
        "colab": {
          "base_uri": "https://localhost:8080/"
        },
        "id": "mn-u2P7HtWmJ",
        "outputId": "fc06e719-9e4b-4ce8-ede6-758c981afa10"
      },
      "source": [
        "from google.colab import drive\n",
        "drive.mount('/content/drive')"
      ],
      "execution_count": 1,
      "outputs": [
        {
          "output_type": "stream",
          "name": "stdout",
          "text": [
            "Mounted at /content/drive\n"
          ]
        }
      ]
    },
    {
      "cell_type": "code",
      "metadata": {
        "id": "1hSje5CBgcUb",
        "colab": {
          "base_uri": "https://localhost:8080/"
        },
        "outputId": "8795e333-d7ad-4375-e6b8-1fa528b8e8df"
      },
      "source": [
        "import pickle\n",
        "import numpy as np\n",
        "from tqdm import tqdm\n",
        "import matplotlib.pyplot as plt\n",
        "\n",
        "with open('/content/drive/MyDrive/Datasets/data.pkl', 'rb') as f:\n",
        "    data = pickle.load(f)\n",
        "print(data.shape)\n",
        "X = data[:, :5]\n",
        "y = data[:, -1]\n",
        "print(X.shape, y.shape)"
      ],
      "execution_count": 2,
      "outputs": [
        {
          "output_type": "stream",
          "name": "stdout",
          "text": [
            "(506, 6)\n",
            "(506, 5) (506,)\n"
          ]
        }
      ]
    },
    {
      "cell_type": "markdown",
      "metadata": {
        "id": "5JL-0soQistC"
      },
      "source": [
        "# <font color='red'>Computational graph</font>"
      ]
    },
    {
      "cell_type": "markdown",
      "metadata": {
        "id": "nREnTTJ3i0Vd"
      },
      "source": [
        "<img src='https://i.imgur.com/seSGbNS.png'>"
      ]
    },
    {
      "cell_type": "markdown",
      "metadata": {
        "id": "DSPX_H_4i_HT"
      },
      "source": [
        "\n",
        "*  **If you observe the graph, we are having input features [f1, f2, f3, f4, f5] and 9 weights [w1, w2, w3, w4, w5, w6,    w7, w8, w9]**.<br><br>\n",
        "*  **The final output of this graph is a value L which is computed as (Y-Y')^2** "
      ]
    },
    {
      "cell_type": "markdown",
      "metadata": {
        "id": "D54eDEv6jkO4"
      },
      "source": [
        "# <font color='red'>Task 1: Implementing backpropagation and Gradient checking </font>"
      ]
    },
    {
      "cell_type": "markdown",
      "metadata": {
        "id": "qocI1Vzqkod9"
      },
      "source": [
        "<font color='blue'><b>Check this video for better understanding of the computational graphs and back propagation</font>"
      ]
    },
    {
      "cell_type": "code",
      "metadata": {
        "id": "Wb5WMdwJinlX",
        "colab": {
          "base_uri": "https://localhost:8080/",
          "height": 521
        },
        "outputId": "b10489ec-890a-445a-c6a4-a3e0ea2a66be"
      },
      "source": [
        "from IPython.display import YouTubeVideo\n",
        "YouTubeVideo('i94OvYb6noo',width=\"1000\",height=\"500\")"
      ],
      "execution_count": null,
      "outputs": [
        {
          "output_type": "execute_result",
          "data": {
            "text/html": [
              "\n",
              "        <iframe\n",
              "            width=\"1000\"\n",
              "            height=\"500\"\n",
              "            src=\"https://www.youtube.com/embed/i94OvYb6noo\"\n",
              "            frameborder=\"0\"\n",
              "            allowfullscreen\n",
              "        ></iframe>\n",
              "        "
            ],
            "text/plain": [
              "<IPython.lib.display.YouTubeVideo at 0x7f676b82acf8>"
            ],
            "image/jpeg": "[encoded data removed]"
          },
          "metadata": {
            "tags": []
          },
          "execution_count": 11
        }
      ]
    },
    {
      "cell_type": "markdown",
      "metadata": {
        "id": "2jecTyVRlh-6"
      },
      "source": [
        "\n",
        "*  <b>Write two functions<br>\n",
        "    *  Forward propagation</b>(Write your code in<font color='blue'> def forward_propagation()</b></font>)<br><br>\n",
        "    For easy debugging, we will break the computational graph into 3 parts.\n",
        "\n",
        "    <font color='green'><b>Part 1</b></font></b>\n",
        "    <img src='https://i.imgur.com/0xUaxy6.png'><br><br>\n",
        "    <font color='green'><b>Part 2</b></font></b><br>\n",
        "    <img src='https://i.imgur.com/J29pAJL.png'><br><br>\n",
        "    <font color='green'><b>Part 3</b></font></b>\n",
        "    <img src='https://i.imgur.com/vMyCsd9.png'>\n",
        "\n",
        "    <pre>\n",
        "    <font color='green'>\n",
        "def forward_propagation(X, y, W):\n",
        "        <font color='grey'>\n",
        "        # X: input data point, note that in this assignment you are having 5-d data points\n",
        "        # y: output varible\n",
        "        # W: weight array, its of length 9, W[0] corresponds to w1 in graph, W[1] corresponds to w2 in graph, <br>         ..., W[8] corresponds to w9 in graph.  \n",
        "        # you have to return the following variables\n",
        "        # exp= part1 (compute the forward propagation until exp and then store the values in exp)\n",
        "        # tanh =part2(compute the forward propagation until tanh and then store the values in tanh)\n",
        "        # sig = part3(compute the forward propagation until sigmoid and then store the values in sig)\n",
        "        # now compute remaining values from computional graph and get y'\n",
        "        # write code to compute the value of L=(y-y')^2\n",
        "        # compute derivative of L  w.r.to Y' and store it in dl\n",
        "        # Create a dictionary to store all the intermediate values\n",
        "        # store L, exp,tanh,sig,dl variables\n",
        "        </font>\n",
        "        return (dictionary, which you might need to use for back propagation)\n",
        "        <font color='grey'>\n",
        "        </font>\n",
        "</font>\n",
        "</pre>\n",
        "    *  <b>Backward propagation</b>(Write your code in<font color='blue'> def backward_propagation()</b></font>)\n",
        "    </b>\n",
        "    <pre>\n",
        "    <font color='green'>\n",
        "    def backward_propagation(L, W,dictionary):\n",
        "        <font color='grey'>\n",
        "        # L: the loss we calculated for the current point\n",
        "        # dictionary: the outputs of the forward_propagation() function\n",
        "        # write code to compute the gradients of each weight [w1,w2,w3,...,w9]\n",
        "        # Hint: you can use dict type to store the required variables \n",
        "        # return dW, dW is a dictionary with gradients of all the weights\n",
        "        </font>\n",
        "        return dW\n",
        "        </font>\n",
        "</font>\n",
        "</pre>"
      ]
    },
    {
      "cell_type": "markdown",
      "metadata": {
        "id": "STS4NrQQc6OH"
      },
      "source": [
        " ## <font color='red'>Gradient clipping</font>"
      ]
    },
    {
      "cell_type": "markdown",
      "metadata": {
        "id": "XY7ivRNzdPok"
      },
      "source": [
        "<b> Check this  <a href='https://towardsdatascience.com/how-to-debug-a-neural-network-with-gradient-checking-41deec0357a9'>blog link</a> for more details on Gradient clipping"
      ]
    },
    {
      "cell_type": "markdown",
      "metadata": {
        "id": "BrsfpDoidtZ5"
      },
      "source": [
        " we know that the derivative of any function is\n",
        " \n",
        " $$\\lim_{\\epsilon\\to0}\\frac{f(x+\\epsilon)-f(x-\\epsilon)}{2\\epsilon}$$\n"
      ]
    },
    {
      "cell_type": "markdown",
      "metadata": {
        "id": "vUcmt0kPd02f"
      },
      "source": [
        "*  The definition above can be used as a numerical approximation of the derivative. Taking an epsilon small enough, the calculated approximation will have an error in the range of epsilon squared. \n",
        "\n",
        "*  In other words, if epsilon is 0.001, the approximation will be off by 0.00001.\n",
        "\n",
        "Therefore, we can use this to approximate the gradient, and in turn make sure that backpropagation is implemented properly. This forms the basis of <b>gradient checking!</b>"
      ]
    },
    {
      "cell_type": "markdown",
      "metadata": {
        "id": "pFSu16KCeU0x"
      },
      "source": [
        "## <Font color='blue'>Gradient checking example</font>"
      ]
    },
    {
      "cell_type": "markdown",
      "metadata": {
        "id": "Gz0mmT_xecfC"
      },
      "source": [
        "<font >\n",
        "lets understand the concept with a simple example:\n",
        "$f(w1,w2,x1,x2)=w_{1}^{2} . x_{1} + w_{2} . x_{2}$ \n",
        "\n",
        "from the above function , lets assume $w_{1}=1$, $w_{2}=2$, $x_{1}=3$, $x_{2}=4$ the gradient of $f$ w.r.t $w_{1}$ is\n",
        "\n",
        "\\begin{array} {lcl}\n",
        "\\frac{df}{dw_{1}} = dw_{1} &=&2.w_{1}.x_{1} \\\\& = &2.1.3\\\\& = &6\n",
        "\\end{array}\n",
        "\n",
        "\n",
        "let calculate the aproximate gradient of $w_{1}$ as mentinoned in the above formula and considering $\\epsilon=0.0001$\n",
        "\n",
        "\\begin{array} {lcl}\n",
        "dw_1^{approx} & = & \\frac{f(w1+\\epsilon,w2,x1,x2)-f(w1-\\epsilon,w2,x1,x2)}{2\\epsilon} \\\\ & = & \\frac{((1+0.0001)^{2} . 3 + 2 . 4) - ((1-0.0001)^{2} . 3 + 2 . 4)}{2\\epsilon} \\\\ & = & \\frac{(1.00020001 . 3 + 2 . 4) - (0.99980001. 3 + 2 . 4)}{2*0.0001} \\\\ & = & \\frac{(11.00060003) - (10.99940003)}{0.0002}\\\\ & = & 5.99999999999\n",
        "\\end{array}\n",
        "\n",
        "Then, we apply the following formula for gradient check: <i>gradient_check</i> = \n",
        "$\\frac{\\left\\Vert\\left (dW-dW^{approx}\\rm\\right) \\right\\Vert_2}{\\left\\Vert\\left (dW\\rm\\right) \\right\\Vert_2+\\left\\Vert\\left (dW^{approx}\\rm\\right) \\right\\Vert_2}$\n",
        "\n",
        "The equation above is basically the Euclidean distance normalized by the sum of the norm of the vectors. We use normalization in case that one of the vectors is very small.\n",
        "As a value for epsilon, we usually opt for 1e-7. Therefore, if gradient check return a value less than 1e-7, then it means that backpropagation was implemented correctly. Otherwise, there is potentially a mistake in your implementation. If the value exceeds 1e-3, then you are sure that the code is not correct.\n",
        "\n",
        "in our example: <i>gradient_check</i> $ = \\frac{(6 - 5.999999999994898)}{(6 + 5.999999999994898)} = 4.2514140356330737e^{-13}$\n",
        "\n",
        "you can mathamatically derive the same thing like this\n",
        "\n",
        "\\begin{array} {lcl}\n",
        "dw_1^{approx} & = & \\frac{f(w1+\\epsilon,w2,x1,x2)-f(w1-\\epsilon,w2,x1,x2)}{2\\epsilon} \\\\ & = & \\frac{((w_{1}+\\epsilon)^{2} . x_{1} + w_{2} . x_{2}) - ((w_{1}-\\epsilon)^{2} . x_{1} + w_{2} . x_{2})}{2\\epsilon} \\\\ & = & \\frac{4. \\epsilon.w_{1}. x_{1}}{2\\epsilon} \\\\ & = &  2.w_{1}.x_{1}\n",
        "\\end{array}\n"
      ]
    },
    {
      "cell_type": "markdown",
      "metadata": {
        "id": "f1BFQQaCermK"
      },
      "source": [
        "## <font color='red'> Implement Gradient checking </font> <br>\n",
        " (Write your code in <font color='blue'> def gradient_checking()</font>)"
      ]
    },
    {
      "cell_type": "markdown",
      "metadata": {
        "id": "GqpfA3AqfJba"
      },
      "source": [
        "**Algorithm** \n",
        "\n"
      ]
    },
    {
      "cell_type": "markdown",
      "metadata": {
        "id": "FL39KeRFfNoD"
      },
      "source": [
        "<pre>\n",
        "<font color='darkblue'>\n",
        "W = initilize_randomly\n",
        "def gradient_checking(data_point, W):<font color='grey'>\n",
        "    # compute the L value using forward_propagation()\n",
        "    # compute the gradients of W using backword_propagation()</font>\n",
        "    approx_gradients = []\n",
        "    for each wi weight value in W:<font color='grey'>\n",
        "        # add a small value to weight wi, and then find the values of L with the updated weights\n",
        "        # subtract a small value to weight wi, and then find the values of L with the updated weights\n",
        "        # compute the approximation gradients of weight wi</font>\n",
        "        approx_gradients.append(approximation gradients of weight wi)<font color='grey'>\n",
        "    # compare the gradient of weights W from backword_propagation() with the aproximation gradients of weights with <br>  gradient_check formula</font>\n",
        "    return gradient_check</font>\n",
        "<b>NOTE: you can do sanity check by checking all the return values of gradient_checking(),<br> they have to be zero. if not you have bug in your code\n",
        "</pre></b>"
      ]
    },
    {
      "cell_type": "markdown",
      "metadata": {
        "id": "0ufbFBFfhgL0"
      },
      "source": [
        "# <font color='red'> Task 2 : Optimizers </font>"
      ]
    },
    {
      "cell_type": "markdown",
      "metadata": {
        "id": "7zt05soYh1RM"
      },
      "source": [
        "* As a part of this task, you will be implementing 3 type of optimizers(methods to update weight)\n",
        "* Use the same computational graph that was mentioned above to do this task\n",
        "* Initilze the 9 weights from normal distribution with mean=0 and std=0.01"
      ]
    },
    {
      "cell_type": "markdown",
      "metadata": {
        "id": "CAyi7aSAicbr"
      },
      "source": [
        "**Check below video and <a href='https://cs231n.github.io/neural-networks-3/'>this</a> blog**"
      ]
    },
    {
      "cell_type": "code",
      "metadata": {
        "id": "ZogcxiegkQpz",
        "colab": {
          "base_uri": "https://localhost:8080/",
          "height": 521
        },
        "outputId": "9b4e0235-e638-4f20-d9c1-ac3ca4fb3ce8"
      },
      "source": [
        "from IPython.display import YouTubeVideo\n",
        "YouTubeVideo('gYpoJMlgyXA',width=\"1000\",height=\"500\")"
      ],
      "execution_count": null,
      "outputs": [
        {
          "output_type": "execute_result",
          "data": {
            "text/html": [
              "\n",
              "        <iframe\n",
              "            width=\"1000\"\n",
              "            height=\"500\"\n",
              "            src=\"https://www.youtube.com/embed/gYpoJMlgyXA\"\n",
              "            frameborder=\"0\"\n",
              "            allowfullscreen\n",
              "        ></iframe>\n",
              "        "
            ],
            "text/plain": [
              "<IPython.lib.display.YouTubeVideo at 0x7f676043e208>"
            ],
            "image/jpeg": "[encoded data removed]"
          },
          "metadata": {
            "tags": []
          },
          "execution_count": 56
        }
      ]
    },
    {
      "cell_type": "markdown",
      "metadata": {
        "id": "jmefh7ktjbaR"
      },
      "source": [
        "<font color='blue'><b>Algorithm</b>"
      ]
    },
    {
      "cell_type": "markdown",
      "metadata": {
        "id": "nAc4NudkjdNa"
      },
      "source": [
        "<pre>\n",
        "    for each epoch(1-100):\n",
        "        for each data point in your data:\n",
        "            using the functions forward_propagation() and backword_propagation() compute the gradients of weights\n",
        "            update the weigts with help of gradients  ex: w1 = w1-learning_rate*dw1\n",
        "</pre>"
      ]
    },
    {
      "cell_type": "markdown",
      "metadata": {
        "id": "_fdmPNqtjm3X"
      },
      "source": [
        "## <font color='red'> Implement below tasks</b>"
      ]
    },
    {
      "cell_type": "markdown",
      "metadata": {
        "id": "Ll9-CRsLjx_D"
      },
      "source": [
        "\n",
        "*  <b>Task 2.1</b>: you will be implementing the above algorithm with <b>Vanilla update</b> of weights<br><br>\n",
        "*  <b>Task 2.2</b>: you will be implementing the above algorithm with <b>Momentum update</b> of weights<br><br>\n",
        "*  <b>Task 2.3</b>: you will be implementing the above algorithm with <b>Adam update</b> of weights\n"
      ]
    },
    {
      "cell_type": "markdown",
      "metadata": {
        "id": "atp082demrUR"
      },
      "source": [
        "**Note : If you get any assertion error while running grader functions, please print the variables in grader functions and check which variable is returning False .Recheck your logic for that variable .**"
      ]
    },
    {
      "cell_type": "markdown",
      "metadata": {
        "id": "phG2WDkjkuIL"
      },
      "source": [
        "<br>\n",
        "<br>\n",
        "<br>"
      ]
    },
    {
      "cell_type": "markdown",
      "metadata": {
        "id": "CBaPzHP63grG"
      },
      "source": [
        "# <font color='red'>Task 1 </font>"
      ]
    },
    {
      "cell_type": "markdown",
      "metadata": {
        "id": "QfmV3FUgSrBo"
      },
      "source": [
        "## <font color='blue'>Forward propagation </font>"
      ]
    },
    {
      "cell_type": "code",
      "metadata": {
        "id": "5_pBivcY30qf"
      },
      "source": [
        "def sigmoid(z):\n",
        "    '''In this function, we will compute the sigmoid(z)'''\n",
        "    # we can use this function in forward and backward propagation\n",
        "\n",
        "    sig = 1 / (1 + np.exp(-z))\n",
        "\n",
        "    return sig\n",
        "    \n",
        "def forward_propagation(x, y, w):\n",
        "        '''In this function, we will compute the forward propagation '''\n",
        "        # X: input data point, note that in this assignment you are having 5-d data points\n",
        "        # y: output varible\n",
        "        # W: weight array, its of length 9, W[0] corresponds to w1 in graph, W[1] corresponds to w2 in graph,..., W[8] corresponds to w9 in graph.  \n",
        "        # you have to return the following variables\n",
        "        # exp= part1 (compute the forward propagation until exp and then store the values in exp)\n",
        "        # tanh =part2(compute the forward propagation until tanh and then store the values in tanh)\n",
        "        # sig = part3(compute the forward propagation until sigmoid and then store the values in sig)\n",
        "        # now compute remaining values from computional graph and get y'\n",
        "        # write code to compute the value of L=(y-y')^2\n",
        "        # compute derivative of L  w.r.to Y' and store it in dl\n",
        "        # Create a dictionary to store all the intermediate values\n",
        "        # store L, exp,tanh,sig variables\n",
        "\n",
        "        #first part\n",
        "        com1 = w[0] * x[0] + w[1] * x[1]\n",
        "        exp = np.exp(((((w[0] * x[0]) + ( w[1] * x[1])) ** 2 ) + w[5]))\n",
        "\n",
        "        #second part\n",
        "\n",
        "        tanh = np.tanh(exp + w[6])\n",
        "\n",
        "        #third part\n",
        "\n",
        "        com2 = (w[3]*x[3]) + (w[4]*x[4])\n",
        "        sig = sigmoid((np.sin((w[2] * x[2])) * (w[3]*x[3] + (w[4]*x[4]))) + w[7])\n",
        "\n",
        "        #final part y'\n",
        "\n",
        "        y1 = tanh + sig*w[8]\n",
        "\n",
        "        #loss\n",
        "\n",
        "        l = (y - y1)**2\n",
        "\n",
        "        # dL/y'\n",
        "\n",
        "        dl = 2*(y - y1)*(-1)\n",
        "\n",
        "        var = {'exp': exp,'tanh' : tanh,'sigmoid' : sig , 'y1':y1, 'loss':l,'dy_pr':dl,'com1':com1,'com2':com2,'x0':x[0],'x1':x[1],'x2':x[2],'x3':x[3],'x4':x[4]}\n",
        "\n",
        "        return var                  #(dictionary, which you might need to use for back propagation)"
      ],
      "execution_count": 3,
      "outputs": []
    },
    {
      "cell_type": "markdown",
      "metadata": {
        "id": "z-z1rGKqCHNN"
      },
      "source": [
        "<font color='cyan'>Grader function - 1</font>"
      ]
    },
    {
      "cell_type": "code",
      "metadata": {
        "id": "6ZxFF00zBmx1",
        "colab": {
          "base_uri": "https://localhost:8080/"
        },
        "outputId": "4ac5211b-5939-4567-9f7a-6620183a0248"
      },
      "source": [
        "def grader_sigmoid(z):\n",
        "  val=sigmoid(z)\n",
        "  assert(val==0.8807970779778823)\n",
        "  return True\n",
        "grader_sigmoid(2)"
      ],
      "execution_count": 4,
      "outputs": [
        {
          "output_type": "execute_result",
          "data": {
            "text/plain": [
              "True"
            ]
          },
          "metadata": {},
          "execution_count": 4
        }
      ]
    },
    {
      "cell_type": "markdown",
      "metadata": {
        "id": "KgAUXq_aChey"
      },
      "source": [
        "<font color='cyan'>Grader function - 2 </font>"
      ]
    },
    {
      "cell_type": "code",
      "metadata": {
        "id": "3uzsUqcjCorN",
        "colab": {
          "base_uri": "https://localhost:8080/"
        },
        "outputId": "3f9a6335-465e-4205-822b-643394121e13"
      },
      "source": [
        "def grader_forwardprop(data):\n",
        "    dl = (data['dy_pr']==-1.9285278284819143)\n",
        "    loss=(data['loss']==0.9298048963072919)\n",
        "    part1=(data['exp']==1.1272967040973583)\n",
        "    part2=(data['tanh']==0.8417934192562146)\n",
        "    part3=(data['sigmoid']==0.5279179387419721)\n",
        "    assert(dl and loss and part1 and part2 and part3)\n",
        "    return True\n",
        "w=np.ones(9)*0.1\n",
        "d1=forward_propagation(X[0],y[0],w)\n",
        "grader_forwardprop(d1)"
      ],
      "execution_count": 6,
      "outputs": [
        {
          "output_type": "execute_result",
          "data": {
            "text/plain": [
              "True"
            ]
          },
          "metadata": {},
          "execution_count": 6
        }
      ]
    },
    {
      "cell_type": "code",
      "metadata": {
        "colab": {
          "base_uri": "https://localhost:8080/"
        },
        "id": "JDQxyyKL1EyP",
        "outputId": "a264d11f-d033-4cf5-bd58-8c5999210d78"
      },
      "source": [
        "d1"
      ],
      "execution_count": null,
      "outputs": [
        {
          "output_type": "execute_result",
          "data": {
            "text/plain": [
              "{'com1': -0.1407922915155795,\n",
              " 'com2': -0.08108256415764016,\n",
              " 'dy_pr': -1.9285278284819143,\n",
              " 'exp': 1.1272967040973583,\n",
              " 'loss': 0.9298048963072919,\n",
              " 'sigmoid': 0.5279179387419721,\n",
              " 'tanh': 0.8417934192562146,\n",
              " 'x0': -1.287909498957745,\n",
              " 'x1': -0.12001341619804987,\n",
              " 'x2': -1.4590003802772022,\n",
              " 'x3': -0.6666082090210984,\n",
              " 'x4': -0.14421743255530314,\n",
              " 'y1': 0.8945852131304118}"
            ]
          },
          "metadata": {},
          "execution_count": 6
        }
      ]
    },
    {
      "cell_type": "markdown",
      "metadata": {
        "id": "obOaAqj3Sxvb"
      },
      "source": [
        "## <font color='blue'>Backward propagation</font>"
      ]
    },
    {
      "cell_type": "code",
      "metadata": {
        "id": "dS49ykcOGhIv"
      },
      "source": [
        "def backward_propagation(L,W,d1):\n",
        "    '''In this function, we will compute the backward propagation '''\n",
        "    # L: the loss we calculated for the current point\n",
        "    # dictionary: the outputs of the forward_propagation() function\n",
        "    # write code to compute the gradients of each weight [w1,w2,w3,...,w9]\n",
        "    # Hint: you can use dict type to store the required variables \n",
        "    # dw1 = # in dw1 compute derivative of L w.r.to w1\n",
        "    # dw2 = # in dw2 compute derivative of L w.r.to w2\n",
        "    # dw3 = # in dw3 compute derivative of L w.r.to w3\n",
        "    # dw4 = # in dw4 compute derivative of L w.r.to w4\n",
        "    # dw5 = # in dw5 compute derivative of L w.r.to w5\n",
        "    # dw6 = # in dw6 compute derivative of L w.r.to w6\n",
        "    # dw7 = # in dw7 compute derivative of L w.r.to w7\n",
        "    # dw8 = # in dw8 compute derivative of L w.r.to w8\n",
        "    # dw9 = # in dw9 compute derivative of L w.r.to w9\n",
        "\n",
        "    dw6 = d1['dy_pr']*(1 - d1['tanh']**2)*d1['exp']\n",
        "    dw7 = d1['dy_pr']*(1 - d1['tanh']**2)\n",
        "    dw2 = d1['dy_pr']*(1 - d1['tanh']**2)*d1['exp']*(2*((w[0] * d1['x0']) + ( w[1] * d1['x1'])))*d1['x1']\n",
        "    dw1 = d1['dy_pr']*(1 - d1['tanh']**2)*d1['exp']*(2*((w[0] * d1['x0']) + ( w[1] * d1['x1'])))*d1['x0']\n",
        "\n",
        "    dw9 = d1['dy_pr']*d1['sigmoid']\n",
        "    dw8 = d1['dy_pr']*(d1['sigmoid']*(1-d1['sigmoid']))*w[8]\n",
        "    dw5 = d1['dy_pr']*(d1['sigmoid']*(1-d1['sigmoid']))*w[8]*np.sin(w[2]*d1['x2'])*d1['x4']\n",
        "    dw4 = d1['dy_pr']*(d1['sigmoid']*(1-d1['sigmoid']))*w[8]*np.sin(w[2]*d1['x2'])*d1['x3']\n",
        "    dw3 = d1['dy_pr']*(d1['sigmoid']*(1-d1['sigmoid']))*w[8]*((w[3]*d1['x3']) + (w[4]*d1['x4']))*np.cos(w[2]*d1['x2'])*d1['x2']\n",
        "\n",
        "    dw = {'dw1':dw1,'dw2': dw2,'dw3':dw3,'dw4': dw4,'dw5':dw5,'dw6': dw6,'dw7':dw7,'dw8': dw8,'dw9':dw9}\n",
        "    return dw                                   #, dW is a dictionary with gradients of all the weights"
      ],
      "execution_count": 7,
      "outputs": []
    },
    {
      "cell_type": "markdown",
      "metadata": {
        "id": "2NpZWAVlS4jb"
      },
      "source": [
        "<font color='cyan'>Grader function - 3 </font>"
      ]
    },
    {
      "cell_type": "markdown",
      "metadata": {
        "id": "Lh_GRceN32Lz"
      },
      "source": [
        "The difference is of e-10 or even smaller."
      ]
    },
    {
      "cell_type": "code",
      "metadata": {
        "colab": {
          "base_uri": "https://localhost:8080/"
        },
        "id": "0qtg0d843tny",
        "outputId": "ae34c3b3-b2e1-489e-985e-d1688380e892"
      },
      "source": [
        "d1"
      ],
      "execution_count": 9,
      "outputs": [
        {
          "output_type": "execute_result",
          "data": {
            "text/plain": [
              "{'dw1': -0.22973323498702,\n",
              " 'dw2': -0.02140761471775293,\n",
              " 'dw3': -0.00562540558026632,\n",
              " 'dw4': -0.004657941222712424,\n",
              " 'dw5': -0.0010077228498574248,\n",
              " 'dw6': -0.6334751873437471,\n",
              " 'dw7': -0.561941842854033,\n",
              " 'dw8': -0.04806288407316517,\n",
              " 'dw9': -1.0181044360187037}"
            ]
          },
          "metadata": {},
          "execution_count": 9
        }
      ]
    },
    {
      "cell_type": "code",
      "metadata": {
        "id": "1a8Kll2xGhMJ",
        "colab": {
          "base_uri": "https://localhost:8080/",
          "height": 313
        },
        "outputId": "cca87e49-ad6d-48c9-f9f0-f8c766ab1e6c"
      },
      "source": [
        "def grader_backprop(data):\n",
        "    dw1=(data['dw1']==-0.22973323498702003)\n",
        "    dw2=(data['dw2']==-0.021407614717752925)\n",
        "    dw3=(data['dw3']==-0.005625405580266319)\n",
        "    dw4=(data['dw4']==-0.004657941222712423)\n",
        "    dw5=(data['dw5']==-0.0010077228498574246)\n",
        "    dw6=(data['dw6']==-0.6334751873437471)\n",
        "    dw7=(data['dw7']==-0.561941842854033)\n",
        "    dw8=(data['dw8']==-0.04806288407316516)\n",
        "    dw9=(data['dw9']==-1.0181044360187037)\n",
        "    assert(dw1 and dw2 and dw3 and dw4 and dw5 and dw6 and dw7 and dw8 and dw9)\n",
        "    return True \n",
        "w=np.ones(9)*0.1\n",
        "d1=forward_propagation(X[0],y[0],w)\n",
        "d1=backward_propagation(X[0],w,d1)\n",
        "grader_backprop(d1)"
      ],
      "execution_count": 8,
      "outputs": [
        {
          "output_type": "error",
          "ename": "AssertionError",
          "evalue": "ignored",
          "traceback": [
            "\u001b[0;31m---------------------------------------------------------------------------\u001b[0m",
            "\u001b[0;31mAssertionError\u001b[0m                            Traceback (most recent call last)",
            "\u001b[0;32m<ipython-input-8-2c1b53d5dbc5>\u001b[0m in \u001b[0;36m<module>\u001b[0;34m()\u001b[0m\n\u001b[1;32m     14\u001b[0m \u001b[0md1\u001b[0m\u001b[0;34m=\u001b[0m\u001b[0mforward_propagation\u001b[0m\u001b[0;34m(\u001b[0m\u001b[0mX\u001b[0m\u001b[0;34m[\u001b[0m\u001b[0;36m0\u001b[0m\u001b[0;34m]\u001b[0m\u001b[0;34m,\u001b[0m\u001b[0my\u001b[0m\u001b[0;34m[\u001b[0m\u001b[0;36m0\u001b[0m\u001b[0;34m]\u001b[0m\u001b[0;34m,\u001b[0m\u001b[0mw\u001b[0m\u001b[0;34m)\u001b[0m\u001b[0;34m\u001b[0m\u001b[0;34m\u001b[0m\u001b[0m\n\u001b[1;32m     15\u001b[0m \u001b[0md1\u001b[0m\u001b[0;34m=\u001b[0m\u001b[0mbackward_propagation\u001b[0m\u001b[0;34m(\u001b[0m\u001b[0mX\u001b[0m\u001b[0;34m[\u001b[0m\u001b[0;36m0\u001b[0m\u001b[0;34m]\u001b[0m\u001b[0;34m,\u001b[0m\u001b[0mw\u001b[0m\u001b[0;34m,\u001b[0m\u001b[0md1\u001b[0m\u001b[0;34m)\u001b[0m\u001b[0;34m\u001b[0m\u001b[0;34m\u001b[0m\u001b[0m\n\u001b[0;32m---> 16\u001b[0;31m \u001b[0mgrader_backprop\u001b[0m\u001b[0;34m(\u001b[0m\u001b[0md1\u001b[0m\u001b[0;34m)\u001b[0m\u001b[0;34m\u001b[0m\u001b[0;34m\u001b[0m\u001b[0m\n\u001b[0m",
            "\u001b[0;32m<ipython-input-8-2c1b53d5dbc5>\u001b[0m in \u001b[0;36mgrader_backprop\u001b[0;34m(data)\u001b[0m\n\u001b[1;32m      9\u001b[0m     \u001b[0mdw8\u001b[0m\u001b[0;34m=\u001b[0m\u001b[0;34m(\u001b[0m\u001b[0mdata\u001b[0m\u001b[0;34m[\u001b[0m\u001b[0;34m'dw8'\u001b[0m\u001b[0;34m]\u001b[0m\u001b[0;34m==\u001b[0m\u001b[0;34m-\u001b[0m\u001b[0;36m0.04806288407316516\u001b[0m\u001b[0;34m)\u001b[0m\u001b[0;34m\u001b[0m\u001b[0;34m\u001b[0m\u001b[0m\n\u001b[1;32m     10\u001b[0m     \u001b[0mdw9\u001b[0m\u001b[0;34m=\u001b[0m\u001b[0;34m(\u001b[0m\u001b[0mdata\u001b[0m\u001b[0;34m[\u001b[0m\u001b[0;34m'dw9'\u001b[0m\u001b[0;34m]\u001b[0m\u001b[0;34m==\u001b[0m\u001b[0;34m-\u001b[0m\u001b[0;36m1.0181044360187037\u001b[0m\u001b[0;34m)\u001b[0m\u001b[0;34m\u001b[0m\u001b[0;34m\u001b[0m\u001b[0m\n\u001b[0;32m---> 11\u001b[0;31m     \u001b[0;32massert\u001b[0m\u001b[0;34m(\u001b[0m\u001b[0mdw1\u001b[0m \u001b[0;32mand\u001b[0m \u001b[0mdw2\u001b[0m \u001b[0;32mand\u001b[0m \u001b[0mdw3\u001b[0m \u001b[0;32mand\u001b[0m \u001b[0mdw4\u001b[0m \u001b[0;32mand\u001b[0m \u001b[0mdw5\u001b[0m \u001b[0;32mand\u001b[0m \u001b[0mdw6\u001b[0m \u001b[0;32mand\u001b[0m \u001b[0mdw7\u001b[0m \u001b[0;32mand\u001b[0m \u001b[0mdw8\u001b[0m \u001b[0;32mand\u001b[0m \u001b[0mdw9\u001b[0m\u001b[0;34m)\u001b[0m\u001b[0;34m\u001b[0m\u001b[0;34m\u001b[0m\u001b[0m\n\u001b[0m\u001b[1;32m     12\u001b[0m     \u001b[0;32mreturn\u001b[0m \u001b[0;32mTrue\u001b[0m\u001b[0;34m\u001b[0m\u001b[0;34m\u001b[0m\u001b[0m\n\u001b[1;32m     13\u001b[0m \u001b[0mw\u001b[0m\u001b[0;34m=\u001b[0m\u001b[0mnp\u001b[0m\u001b[0;34m.\u001b[0m\u001b[0mones\u001b[0m\u001b[0;34m(\u001b[0m\u001b[0;36m9\u001b[0m\u001b[0;34m)\u001b[0m\u001b[0;34m*\u001b[0m\u001b[0;36m0.1\u001b[0m\u001b[0;34m\u001b[0m\u001b[0;34m\u001b[0m\u001b[0m\n",
            "\u001b[0;31mAssertionError\u001b[0m: "
          ]
        }
      ]
    },
    {
      "cell_type": "code",
      "metadata": {
        "colab": {
          "base_uri": "https://localhost:8080/"
        },
        "id": "k70B5dXD6ugs",
        "outputId": "cd06579b-56de-4396-b8a9-448b3a9f9e4d"
      },
      "source": [
        "# d1['dy_pr']*(1 - d1['tanh']**2)*d1['exp']"
      ],
      "execution_count": null,
      "outputs": [
        {
          "output_type": "execute_result",
          "data": {
            "text/plain": [
              "-0.6334751873437471"
            ]
          },
          "metadata": {},
          "execution_count": 11
        }
      ]
    },
    {
      "cell_type": "code",
      "metadata": {
        "colab": {
          "base_uri": "https://localhost:8080/"
        },
        "id": "2JBHow24n7hc",
        "outputId": "89d7faee-d4d3-416a-fdf5-3b305956389c"
      },
      "source": [
        "# d1['dy_pr']*(1 - d1['tanh']**2)*d1['exp']*2*(d1['com1'])*d1['x1']"
      ],
      "execution_count": null,
      "outputs": [
        {
          "output_type": "execute_result",
          "data": {
            "text/plain": [
              "-0.02140761471775293"
            ]
          },
          "metadata": {},
          "execution_count": 27
        }
      ]
    },
    {
      "cell_type": "code",
      "metadata": {
        "colab": {
          "base_uri": "https://localhost:8080/"
        },
        "id": "xEkjOOKRwNma",
        "outputId": "6a45661e-ae2c-4fbd-83d5-d0200c236c7f"
      },
      "source": [
        "# d1['dy_pr']*(1 - d1['tanh']**2)*d1['exp']*((w[0] * d1['x0']) + ( w[1] * d1['x1']))*d1['x0']*2"
      ],
      "execution_count": null,
      "outputs": [
        {
          "output_type": "execute_result",
          "data": {
            "text/plain": [
              "-0.22973323498702"
            ]
          },
          "metadata": {},
          "execution_count": 30
        }
      ]
    },
    {
      "cell_type": "code",
      "metadata": {
        "colab": {
          "base_uri": "https://localhost:8080/"
        },
        "id": "ak9Cu6_Lw-Ht",
        "outputId": "9d902f9a-299f-41d8-e552-80d3fa054ef2"
      },
      "source": [
        "# d1['dy_pr']*(d1['sigmoid']*(1-d1['sigmoid']))*w[8]*np.sin(w[2]*d1['x2'])*d1['x3']"
      ],
      "execution_count": null,
      "outputs": [
        {
          "output_type": "execute_result",
          "data": {
            "text/plain": [
              "-0.004657941222712424"
            ]
          },
          "metadata": {},
          "execution_count": 41
        }
      ]
    },
    {
      "cell_type": "code",
      "metadata": {
        "colab": {
          "base_uri": "https://localhost:8080/"
        },
        "id": "XHc76X_d00xn",
        "outputId": "b53947f1-1903-4229-e804-60c7dc289959"
      },
      "source": [
        "# d1['dy_pr']*(d1['sigmoid']*(1-d1['sigmoid']))*w[8]*((w[3]*d1['x3']) + (w[4]*d1['x4']))*np.cos(w[2]*d1['x2'])*d1['x2']"
      ],
      "execution_count": null,
      "outputs": [
        {
          "output_type": "execute_result",
          "data": {
            "text/plain": [
              "-0.00562540558026632"
            ]
          },
          "metadata": {},
          "execution_count": 44
        }
      ]
    },
    {
      "cell_type": "markdown",
      "metadata": {
        "id": "1rfHHXZwgwo6"
      },
      "source": [
        "## <font color='blue'> Implement gradient checking</font>"
      ]
    },
    {
      "cell_type": "code",
      "metadata": {
        "id": "oh8wj1yjGhOi"
      },
      "source": [
        "# W = initilize_randomly\n",
        "# def gradient_checking(data_point, W):\n",
        "#     # compute the L value using forward_propagation()\n",
        "#     # compute the gradients of W using backword_propagation()\n",
        "    \n",
        "#     approx_gradients = []\n",
        "#     for each wi weight value in W:\n",
        "#         # add a small value to weight wi, and then find the values of L with the updated weights\n",
        "#         # subtract a small value to weight wi, and then find the values of L with the updated weights\n",
        "#         # compute the approximation gradients of weight wi\n",
        "#         approx_gradients.append(approximation gradients of weight wi)\n",
        "#     # compare the gradient of weights W from backword_propagation() with the aproximation gradients of weights with gradient_check formula\n",
        "#     return gradient_check"
      ],
      "execution_count": null,
      "outputs": []
    },
    {
      "cell_type": "code",
      "metadata": {
        "id": "y0WLzv9C85of"
      },
      "source": [
        "np.random.seed(42)\n",
        "w = np.random.random(9)\n",
        "def gradient_checking(data_point, W):\n",
        "    # compute the L value using forward_propagation()\n",
        "    # compute the gradients of W using backword_propagation()\n",
        "    fp = forward_propagation(data_point[:-1],data_point[-1],W)\n",
        "    grad = backward_propagation(fp['loss'],W,fp) \n",
        "\n",
        "    approx_gradients = []\n",
        "    for  i  in range(len(W)):\n",
        "        # add a small value to weight wi, and then find the values of L with the updated weights\n",
        "        W1 = W\n",
        "        W1[i] += 1e-7\n",
        "        fp1 = forward_propagation(data_point[:-1],data_point[-1],W1)\n",
        "        loss_upd1 = fp1['loss']\n",
        "        # subtract a small value to weight wi, and then find the values of L with the updated weights\n",
        "        W1[i] -= 1e-7\n",
        "        fp2 = forward_propagation(data_point[:-1],data_point[-1],W1)\n",
        "        loss_upd2 = fp2['loss']\n",
        "        # compute the approximation gradients of weight wi\n",
        "        dw_approx = (loss_upd1 - loss_upd2) / (1 * 1e-7)\n",
        "        # print(dw_approx)\n",
        "        approx_gradients.append(dw_approx)\n",
        "    # compare the gradient of weights W from backword_propagation() with the aproximation gradients of weights with gradient_check formula\n",
        "    print(approx_gradients)\n",
        "    numerator = np.linalg.norm(np.array(list(grad.values())) - np.array(approx_gradients))\n",
        "    denominator = np.linalg.norm(np.array(list(grad.values()))) + np.linalg.norm(np.array(approx_gradients))\n",
        "    difference = numerator / denominator\n",
        "\n",
        "    dif = (grad['dw1'] - approx_gradients[0]) / (grad['dw1'] + approx_gradients[0])\n",
        "    print(dif)\n",
        "    return difference,approx_gradients           #gradient_check"
      ],
      "execution_count": 11,
      "outputs": []
    },
    {
      "cell_type": "code",
      "metadata": {
        "colab": {
          "base_uri": "https://localhost:8080/"
        },
        "id": "MQ325410FMTJ",
        "outputId": "9b8b3004-2f28-4351-aa44-4a664b3401e7"
      },
      "source": [
        "out,approx = gradient_checking(data[0],w)"
      ],
      "execution_count": 12,
      "outputs": [
        {
          "output_type": "stream",
          "name": "stdout",
          "text": [
            "[-0.27722557999210196, -0.025833174766010103, -0.028259198869839963, -0.05568888683527007, -0.012048019804034027, -0.1804378732539469, -0.1081601386232478, -0.09534116218734567, -0.7042690725045375]\n",
            "4.493178796452173e-08\n"
          ]
        }
      ]
    },
    {
      "cell_type": "code",
      "metadata": {
        "colab": {
          "base_uri": "https://localhost:8080/"
        },
        "id": "d1smCIKzily4",
        "outputId": "a01df1be-ff7a-45cd-a3fe-a8dfd836539b"
      },
      "source": [
        "out"
      ],
      "execution_count": null,
      "outputs": [
        {
          "output_type": "execute_result",
          "data": {
            "text/plain": [
              "4.373945190124853e-08"
            ]
          },
          "metadata": {},
          "execution_count": 144
        }
      ]
    },
    {
      "cell_type": "code",
      "metadata": {
        "id": "keM4b245cKS6"
      },
      "source": [
        "fp = forward_propagation(data[0][:-1],data[0][-1],w)\n",
        "grad = backward_propagation(fp['loss'],w,fp) "
      ],
      "execution_count": null,
      "outputs": []
    },
    {
      "cell_type": "code",
      "metadata": {
        "colab": {
          "base_uri": "https://localhost:8080/"
        },
        "id": "ExNHtmUX4bso",
        "outputId": "afcc1392-18e3-4818-fe58-33a188d42c78"
      },
      "source": [
        "approx"
      ],
      "execution_count": 13,
      "outputs": [
        {
          "output_type": "execute_result",
          "data": {
            "text/plain": [
              "[-0.27722557999210196,\n",
              " -0.025833174766010103,\n",
              " -0.028259198869839963,\n",
              " -0.05568888683527007,\n",
              " -0.012048019804034027,\n",
              " -0.1804378732539469,\n",
              " -0.1081601386232478,\n",
              " -0.09534116218734567,\n",
              " -0.7042690725045375]"
            ]
          },
          "metadata": {},
          "execution_count": 13
        }
      ]
    },
    {
      "cell_type": "code",
      "metadata": {
        "colab": {
          "base_uri": "https://localhost:8080/"
        },
        "id": "U6HH7OdxcRJQ",
        "outputId": "5b6270fe-c66c-4ac9-f2e2-09b7fe9f0efc"
      },
      "source": [
        "grad"
      ],
      "execution_count": null,
      "outputs": [
        {
          "output_type": "execute_result",
          "data": {
            "text/plain": [
              "{'dw1': -0.2750261478539545,\n",
              " 'dw2': -0.025628219664855473,\n",
              " 'dw3': -0.02816326249573548,\n",
              " 'dw4': -0.05557662372228279,\n",
              " 'dw5': -0.012023731293513215,\n",
              " 'dw6': -0.1786268648243761,\n",
              " 'dw7': -0.106816476645643,\n",
              " 'dw8': -0.09508038641450509,\n",
              " 'dw9': -0.7022751733241351}"
            ]
          },
          "metadata": {},
          "execution_count": 132
        }
      ]
    },
    {
      "cell_type": "markdown",
      "metadata": {
        "id": "e5ynfSIY4lnX"
      },
      "source": [
        "* As it can be seen, the difference between the actual and dw_approx is of 10^-3 which is very small, our manual implementation works as expected\n",
        "* Also, the gradient check of dw1 is of the order 10^-8."
      ]
    },
    {
      "cell_type": "code",
      "metadata": {
        "id": "0mFzkZG2dclA"
      },
      "source": [
        "# fp['loss'],fp['y1']"
      ],
      "execution_count": 14,
      "outputs": []
    },
    {
      "cell_type": "code",
      "metadata": {
        "id": "PmQoNJhlHe2E"
      },
      "source": [
        "# w1 = w\n",
        "# w1[7] = w1[7] + 0.001\n",
        "# fp1 = forward_propagation(data[0][:-1],data[0][-1],w1)"
      ],
      "execution_count": 15,
      "outputs": []
    },
    {
      "cell_type": "code",
      "metadata": {
        "id": "bA65w6iKcxUd"
      },
      "source": [
        "# fp1['loss'],fp1['y1']"
      ],
      "execution_count": 16,
      "outputs": []
    },
    {
      "cell_type": "code",
      "metadata": {
        "id": "XrpfnnJRc2DE"
      },
      "source": [
        "# w2 = w\n",
        "# w2[7] = w2[7] - 0.001\n",
        "# fp2 = forward_propagation(data[0][:-1],data[0][-1],w2)"
      ],
      "execution_count": 17,
      "outputs": []
    },
    {
      "cell_type": "code",
      "metadata": {
        "id": "V0PNIV4f-63h"
      },
      "source": [
        "# w"
      ],
      "execution_count": 18,
      "outputs": []
    },
    {
      "cell_type": "code",
      "metadata": {
        "id": "oa-CNfz-dErJ"
      },
      "source": [
        "# fp2['loss'],fp2['y1']"
      ],
      "execution_count": 19,
      "outputs": []
    },
    {
      "cell_type": "code",
      "metadata": {
        "colab": {
          "base_uri": "https://localhost:8080/"
        },
        "id": "mi57-BZ4dLAl",
        "outputId": "71aacf22-37ed-41c5-a638-a934a52235bf"
      },
      "source": [
        "# (fp1['loss'] - fp2['loss'])/ (2*0.001)"
      ],
      "execution_count": null,
      "outputs": [
        {
          "output_type": "execute_result",
          "data": {
            "text/plain": [
              "-0.047651985409319364"
            ]
          },
          "metadata": {},
          "execution_count": 122
        }
      ]
    },
    {
      "cell_type": "markdown",
      "metadata": {
        "id": "MhwDSe99kJ32"
      },
      "source": [
        "# <font color='red'>Task 2: Optimizers"
      ]
    },
    {
      "cell_type": "markdown",
      "metadata": {
        "id": "jJzI-vnPk1dB"
      },
      "source": [
        "###<font color='blue'>Algorithm with Vanilla update of weights</font>"
      ]
    },
    {
      "cell_type": "code",
      "metadata": {
        "id": "l9-_OPIX541a"
      },
      "source": [
        "np.random.seed(42)\n",
        "w_v = np.random.randn(9)\n",
        "lr = 0.001\n",
        "loss_v = []"
      ],
      "execution_count": 20,
      "outputs": []
    },
    {
      "cell_type": "code",
      "metadata": {
        "colab": {
          "base_uri": "https://localhost:8080/"
        },
        "id": "amWra0Ix6FNk",
        "outputId": "7487be01-52bd-4ac1-b480-9fce0602bae2"
      },
      "source": [
        "w_v"
      ],
      "execution_count": 21,
      "outputs": [
        {
          "output_type": "execute_result",
          "data": {
            "text/plain": [
              "array([ 0.49671415, -0.1382643 ,  0.64768854,  1.52302986, -0.23415337,\n",
              "       -0.23413696,  1.57921282,  0.76743473, -0.46947439])"
            ]
          },
          "metadata": {},
          "execution_count": 21
        }
      ]
    },
    {
      "cell_type": "code",
      "metadata": {
        "id": "xJspU6ZuGhRQ"
      },
      "source": [
        "for j in range(100):\n",
        "    for i in range(len(data)):\n",
        "        fpv = forward_propagation(data[i],y[i],w_v)\n",
        "        \n",
        "        bpv = backward_propagation(fpv['loss'],w_v,fpv)\n",
        "        w_v = w_v - lr*np.array(list(bpv.values()))\n",
        "    loss_v.append(fpv['loss'])"
      ],
      "execution_count": 22,
      "outputs": []
    },
    {
      "cell_type": "markdown",
      "metadata": {
        "id": "UlTLXrvmlR26"
      },
      "source": [
        "<font color='blue'>Plot between epochs and loss</font>"
      ]
    },
    {
      "cell_type": "code",
      "metadata": {
        "id": "CjTCVUIoGhTo",
        "colab": {
          "base_uri": "https://localhost:8080/",
          "height": 312
        },
        "outputId": "9f06d1da-0c7d-4315-8f5b-d2b98d00cd1f"
      },
      "source": [
        "import matplotlib.pyplot as plt\n",
        "\n",
        "plt.title('Epoch Vs loss(Vanilla)')\n",
        "plt.xlabel('Epoch')\n",
        "plt.ylabel('Loss(Vanilla)')\n",
        "plt.plot(range(100),loss_v)"
      ],
      "execution_count": 23,
      "outputs": [
        {
          "output_type": "execute_result",
          "data": {
            "text/plain": [
              "[<matplotlib.lines.Line2D at 0x7feae61be450>]"
            ]
          },
          "metadata": {},
          "execution_count": 23
        },
        {
          "output_type": "display_data",
          "data": {
            "image/png": "[encoded data removed]",
            "text/plain": [
              "<Figure size 432x288 with 1 Axes>"
            ]
          },
          "metadata": {
            "needs_background": "light"
          }
        }
      ]
    },
    {
      "cell_type": "markdown",
      "metadata": {
        "id": "cv_hZFWalS2z"
      },
      "source": [
        "###<font color='blue'>Algorithm with Momentum update of weights</font>"
      ]
    },
    {
      "cell_type": "code",
      "metadata": {
        "id": "uucCdyQrGhZt"
      },
      "source": [
        "# np.random.seed(42)\n",
        "w_m = np.random.randn(9)\n",
        "lr = 0.001\n",
        "loss_m = []\n",
        "mu = 0.9\n",
        "v = 0.0"
      ],
      "execution_count": 33,
      "outputs": []
    },
    {
      "cell_type": "code",
      "metadata": {
        "id": "BFAT5ioa7FpP"
      },
      "source": [
        "for j in range(100):\n",
        "    for i in range(len(data)):\n",
        "        fpm = forward_propagation(data[i],y[i],w_m)\n",
        "        \n",
        "        bpm = backward_propagation(fpm['loss'],w_m,fpm)\n",
        "        v = mu * v - lr * np.array(list(bpm.values()))\n",
        "        w_m = w_m - v\n",
        "    loss_m.append(fpm['loss'])"
      ],
      "execution_count": 34,
      "outputs": []
    },
    {
      "cell_type": "markdown",
      "metadata": {
        "id": "Ow20azfKlVhn"
      },
      "source": [
        "<font color='blue'>Plot between epochs and loss</font>"
      ]
    },
    {
      "cell_type": "code",
      "metadata": {
        "id": "u-m90Sq_Ghce",
        "colab": {
          "base_uri": "https://localhost:8080/",
          "height": 312
        },
        "outputId": "9948df41-fd80-47f1-bed9-e31ead4e1522"
      },
      "source": [
        "plt.title('Epoch Vs loss(Momentum)')\n",
        "plt.xlabel('Epoch')\n",
        "plt.ylabel('Loss(Momentum)')\n",
        "plt.plot(range(100),loss_m)"
      ],
      "execution_count": 35,
      "outputs": [
        {
          "output_type": "execute_result",
          "data": {
            "text/plain": [
              "[<matplotlib.lines.Line2D at 0x7feae59cc4d0>]"
            ]
          },
          "metadata": {},
          "execution_count": 35
        },
        {
          "output_type": "display_data",
          "data": {
            "image/png": "[encoded data removed]",
            "text/plain": [
              "<Figure size 432x288 with 1 Axes>"
            ]
          },
          "metadata": {
            "needs_background": "light"
          }
        }
      ]
    },
    {
      "cell_type": "markdown",
      "metadata": {
        "id": "V4RWWrZ7lWap"
      },
      "source": [
        "###<font color='blue'>Algorithm with Adam update of weights</font>"
      ]
    },
    {
      "cell_type": "code",
      "metadata": {
        "id": "72rRC8rJGhf5"
      },
      "source": [
        "np.random.seed(15)\n",
        "w_a = np.random.randn(9)\n",
        "lr = 0.001\n",
        "loss_a = []\n",
        "m = 0\n",
        "v = 0\n",
        "eps = 1e-8\n",
        "beta1 = 0.9\n",
        "beta2 = 0.999"
      ],
      "execution_count": 36,
      "outputs": []
    },
    {
      "cell_type": "code",
      "metadata": {
        "id": "Wag_kNKU97s4"
      },
      "source": [
        "for j in range(100):\n",
        "    for i in range(len(data)):\n",
        "        fpa = forward_propagation(data[i],y[i],w_a)\n",
        "        \n",
        "        bpa = backward_propagation(fpa['loss'],w_a,fpa)\n",
        "\n",
        "        m = beta1*m + (1-beta1)*np.array(list(bpa.values()))\n",
        "        v = beta2*v + (1-beta2)*(np.array(list(bpa.values()))**2)\n",
        "        w_a += - lr * m / (np.sqrt(v) + eps)\n",
        "\n",
        "        \n",
        "    loss_a.append(fpa['loss'])"
      ],
      "execution_count": 37,
      "outputs": []
    },
    {
      "cell_type": "markdown",
      "metadata": {
        "id": "MMy0nBw-lXml"
      },
      "source": [
        "<font color='blue'>Plot between epochs and loss</font>"
      ]
    },
    {
      "cell_type": "code",
      "metadata": {
        "id": "aiFRk_uFlm2V",
        "colab": {
          "base_uri": "https://localhost:8080/",
          "height": 312
        },
        "outputId": "0e3474fd-420c-4a5a-cafe-681c96d7a2f8"
      },
      "source": [
        "plt.title('Epoch Vs loss(Adam)')\n",
        "plt.xlabel('Epoch')\n",
        "plt.ylabel('Loss(Adam)')\n",
        "plt.plot(range(100),loss_a)"
      ],
      "execution_count": 38,
      "outputs": [
        {
          "output_type": "execute_result",
          "data": {
            "text/plain": [
              "[<matplotlib.lines.Line2D at 0x7feae5938c50>]"
            ]
          },
          "metadata": {},
          "execution_count": 38
        },
        {
          "output_type": "display_data",
          "data": {
            "image/png": "[encoded data removed]",
            "text/plain": [
              "<Figure size 432x288 with 1 Axes>"
            ]
          },
          "metadata": {
            "needs_background": "light"
          }
        }
      ]
    },
    {
      "cell_type": "markdown",
      "metadata": {
        "id": "7627cy8YlnYO"
      },
      "source": [
        "#Observation\n"
      ]
    },
    {
      "cell_type": "markdown",
      "metadata": {
        "id": "574c83QrItfC"
      },
      "source": [
        "* We've implemented different types of weight updates as mentioned in the link for task 2\n",
        "* It can be seen that, Adam optimizer performs the best, by reducing the loss in minimum number of epochs.\n",
        "* Vanilla update does monotonically reduce the loss, but takes higher number of epochs than Adam\n",
        "* In Momentum update, the loss seems to flatten out at slightly higher value, but as the epochs increase, the loss reduces further down and flattens out at a minimum value"
      ]
    },
    {
      "cell_type": "code",
      "metadata": {
        "id": "scleSfIXl_bC"
      },
      "source": [
        ""
      ],
      "execution_count": null,
      "outputs": []
    },
    {
      "cell_type": "code",
      "metadata": {
        "id": "lfXSaOP8rjBY"
      },
      "source": [
        ""
      ],
      "execution_count": null,
      "outputs": []
    }
  ]
}